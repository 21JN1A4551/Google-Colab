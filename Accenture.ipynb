{
  "cells": [
    {
      "cell_type": "markdown",
      "metadata": {
        "id": "view-in-github",
        "colab_type": "text"
      },
      "source": [
        "<a href=\"https://colab.research.google.com/github/21JN1A4551/Google-Colab/blob/main/Accenture.ipynb\" target=\"_parent\"><img src=\"https://colab.research.google.com/assets/colab-badge.svg\" alt=\"Open In Colab\"/></a>"
      ]
    },
    {
      "cell_type": "markdown",
      "source": [
        "POSITIVE OR NEGATIVE"
      ],
      "metadata": {
        "id": "qUPISKbkryT5"
      }
    },
    {
      "cell_type": "code",
      "execution_count": null,
      "metadata": {
        "colab": {
          "background_save": true,
          "base_uri": "https://localhost:8080/"
        },
        "id": "pryUIASFFVyU",
        "outputId": "1621a66d-f4d8-4b6d-fe61-3f44af31fd32"
      },
      "outputs": [
        {
          "name": "stdout",
          "output_type": "stream",
          "text": [
            "positive\n"
          ]
        }
      ],
      "source": [
        "n=10;\n",
        "if(n>0):\n",
        "    print(\"positive\")\n",
        "else:\n",
        "    print(\"negative\")\n"
      ]
    },
    {
      "cell_type": "code",
      "source": [
        "n=int(input(\"Enter a number\"))\n",
        "if(n>0):\n",
        "  print(\"positive\")\n",
        "elif(n<0):\n",
        "  print(\"negative\")\n",
        "else:\n",
        "  print(\"zero\")\n"
      ],
      "metadata": {
        "colab": {
          "base_uri": "https://localhost:8080/"
        },
        "id": "7s3a5ETNr3zn",
        "outputId": "f66d0285-dd3b-417e-8b27-e53abad36616"
      },
      "execution_count": null,
      "outputs": [
        {
          "output_type": "stream",
          "name": "stdout",
          "text": [
            "Enter a number23\n",
            "positive\n"
          ]
        }
      ]
    },
    {
      "cell_type": "code",
      "source": [
        "n=int(input(\"Enter a number\"));\n",
        "if(n>0):\n",
        "  print(\"positive\")\n",
        "elif(n<0):\n",
        "  print(\"negative\")\n",
        "else:\n",
        "  print(\"zero\")"
      ],
      "metadata": {
        "colab": {
          "base_uri": "https://localhost:8080/"
        },
        "id": "WD5ysEwCscvl",
        "outputId": "ee3edde5-b915-4330-cc90-78a6cc5403ab"
      },
      "execution_count": null,
      "outputs": [
        {
          "output_type": "stream",
          "name": "stdout",
          "text": [
            "Enter a number0\n",
            "zero\n"
          ]
        }
      ]
    },
    {
      "cell_type": "markdown",
      "source": [
        "EVEN OR ODD\n"
      ],
      "metadata": {
        "id": "xPyPkhXosgh3"
      }
    },
    {
      "cell_type": "code",
      "source": [
        "n=10;\n",
        "if(n%2==0):\n",
        "  print(\"even\")\n",
        "else:\n",
        "  print(\"odd\")\n"
      ],
      "metadata": {
        "colab": {
          "base_uri": "https://localhost:8080/"
        },
        "id": "JRaALRV5siVg",
        "outputId": "78c1b481-9582-434f-f9d3-510c0315e242"
      },
      "execution_count": null,
      "outputs": [
        {
          "output_type": "stream",
          "name": "stdout",
          "text": [
            "even\n"
          ]
        }
      ]
    },
    {
      "cell_type": "code",
      "source": [
        "n=int(input());\n",
        "if(n%2==0):\n",
        "  print(\"even\")\n",
        "else:\n",
        "  print(\"odd\")"
      ],
      "metadata": {
        "colab": {
          "base_uri": "https://localhost:8080/"
        },
        "id": "rxfURUhvs1ol",
        "outputId": "976a94ca-dd2e-41ca-e851-36023c7c32ba"
      },
      "execution_count": null,
      "outputs": [
        {
          "output_type": "stream",
          "name": "stdout",
          "text": [
            "56\n",
            "even\n"
          ]
        }
      ]
    },
    {
      "cell_type": "markdown",
      "source": [
        "NATURAL NUMBERS\n"
      ],
      "metadata": {
        "id": "Um7n2U0GtKjh"
      }
    },
    {
      "cell_type": "code",
      "source": [
        "num=0;\n",
        "sum=2;\n",
        "for i in range(num,n+1):\n",
        "  sum=sum+i;\n",
        "  print(sum)"
      ],
      "metadata": {
        "colab": {
          "base_uri": "https://localhost:8080/"
        },
        "id": "BbogZZ3OtM0S",
        "outputId": "abfe1cb4-5bb9-4012-f1d5-10458856b7af"
      },
      "execution_count": null,
      "outputs": [
        {
          "output_type": "stream",
          "name": "stdout",
          "text": [
            "2\n",
            "3\n",
            "5\n",
            "8\n",
            "12\n",
            "17\n",
            "23\n",
            "30\n",
            "38\n",
            "47\n",
            "57\n",
            "68\n",
            "80\n",
            "93\n",
            "107\n",
            "122\n",
            "138\n",
            "155\n",
            "173\n",
            "192\n",
            "212\n",
            "233\n",
            "255\n",
            "278\n",
            "302\n",
            "327\n",
            "353\n",
            "380\n",
            "408\n",
            "437\n",
            "467\n",
            "498\n",
            "530\n",
            "563\n",
            "597\n",
            "632\n",
            "668\n",
            "705\n",
            "743\n",
            "782\n",
            "822\n",
            "863\n",
            "905\n",
            "948\n",
            "992\n",
            "1037\n",
            "1083\n",
            "1130\n",
            "1178\n",
            "1227\n",
            "1277\n",
            "1328\n",
            "1380\n",
            "1433\n",
            "1487\n",
            "1542\n",
            "1598\n"
          ]
        }
      ]
    },
    {
      "cell_type": "code",
      "source": [
        "num=int(input());\n",
        "sum=0;\n",
        "for i in range(num,num+1):\n",
        "  sum=i+1;\n",
        "  print(sum)"
      ],
      "metadata": {
        "colab": {
          "base_uri": "https://localhost:8080/"
        },
        "id": "jNoDVL0Stx0e",
        "outputId": "fd38f618-b467-4454-81bc-7242961e844f"
      },
      "execution_count": null,
      "outputs": [
        {
          "output_type": "stream",
          "name": "stdout",
          "text": [
            "10\n",
            "11\n"
          ]
        }
      ]
    },
    {
      "cell_type": "markdown",
      "source": [
        "NUMBERS IN A GIVEN RANGE"
      ],
      "metadata": {
        "id": "FZErM9lXuJe-"
      }
    },
    {
      "cell_type": "code",
      "source": [
        "num1,num2=10,15;\n",
        "sum=0;\n",
        "for i in range(num1,num2+1):\n",
        "  sum=sum+i;\n",
        "  print(sum)"
      ],
      "metadata": {
        "colab": {
          "base_uri": "https://localhost:8080/"
        },
        "id": "MOHF-SQ0vKX9",
        "outputId": "48d815bf-9987-497b-e1c4-dea0e5da49e8"
      },
      "execution_count": null,
      "outputs": [
        {
          "output_type": "stream",
          "name": "stdout",
          "text": [
            "10\n",
            "21\n",
            "33\n",
            "46\n",
            "60\n",
            "75\n"
          ]
        }
      ]
    },
    {
      "cell_type": "markdown",
      "source": [
        "GREATEST OF GIVEN NUMBERS"
      ],
      "metadata": {
        "id": "ltpw22LezyLS"
      }
    },
    {
      "cell_type": "code",
      "source": [
        "num1=10;\n",
        "num2=20;\n",
        "if(num1>num2):\n",
        "  print(num1)\n",
        "else:\n",
        "  print(num2)"
      ],
      "metadata": {
        "colab": {
          "base_uri": "https://localhost:8080/"
        },
        "id": "ujGx1Z9dz1Mp",
        "outputId": "08d47933-5638-4471-de61-6545c2def0fb"
      },
      "execution_count": null,
      "outputs": [
        {
          "output_type": "stream",
          "name": "stdout",
          "text": [
            "20\n"
          ]
        }
      ]
    },
    {
      "cell_type": "markdown",
      "source": [
        "GIVEN NUMBER IS HAPPY OR NOT"
      ],
      "metadata": {
        "id": "h5aJ3C1_yV68"
      }
    },
    {
      "cell_type": "code",
      "source": [
        "#include <stdio.h>\n",
        "\n",
        "int sumOfSquares(int(n)) {\n",
        "    int sum = 0;\n",
        "    while (n > 0) {\n",
        "        int digit = n % 10;\n",
        "        sum += digit * digit;\n",
        "        n /= 10;\n",
        "    }\n",
        "    return sum;\n",
        "}\n",
        "\n",
        "int isHappyNumber(int(n)) {\n",
        "    int slow = n, fast = n;\n",
        "    do {\n",
        "        slow = sumOfSquares(slow);             // move slow by 1 step\n",
        "        fast = sumOfSquares(sumOfSquares(fast)); // move fast by 2 steps\n",
        "    } while (slow != fast);\n",
        "\n",
        "    return (slow == 1);\n",
        "}\n",
        "\n",
        "int main() {\n",
        "    int num;\n",
        "    printf(\"Enter a number: \");\n",
        "    scanf(\"%d\", &num);\n",
        "\n",
        "    if (isHappyNumber(num)) {\n",
        "        printf(\"%d is a happy number.\\n\", num);\n",
        "    } else {\n",
        "        printf(\"%d is not a happy number.\\n\", num);\n",
        "    }\n",
        "\n",
        "    return 0;\n",
        "}"
      ],
      "metadata": {
        "colab": {
          "base_uri": "https://localhost:8080/",
          "height": 106
        },
        "id": "4grV2xHeScl9",
        "outputId": "19e1575e-76c9-4542-f3a0-42d1590452b4"
      },
      "execution_count": null,
      "outputs": [
        {
          "output_type": "error",
          "ename": "SyntaxError",
          "evalue": "invalid syntax (<ipython-input-17-58253bdb407b>, line 3)",
          "traceback": [
            "\u001b[0;36m  File \u001b[0;32m\"<ipython-input-17-58253bdb407b>\"\u001b[0;36m, line \u001b[0;32m3\u001b[0m\n\u001b[0;31m    int sumOfSquares(int(n)) {\u001b[0m\n\u001b[0m        ^\u001b[0m\n\u001b[0;31mSyntaxError\u001b[0m\u001b[0;31m:\u001b[0m invalid syntax\n"
          ]
        }
      ]
    },
    {
      "cell_type": "code",
      "source": [
        "def OperationsBinaryString(str):\n",
        "  ans= ord(str[0])-ord('0')\n",
        "  for i in range(1,len(str),2):\n",
        "    j=i+1;\n",
        "    if(str[i]=='A'):\n",
        "      ans = ans & (ord(str[j])-ord('0'))\n",
        "    elif(str[i]=='B'):\n",
        "      ans = ans | (ord(str[j])-ord('0'))\n",
        "    elif(str[i]=='c'):\n",
        "      ans = ans ^ (ord(str[j])-ord('0'))\n",
        "    return ans"
      ],
      "metadata": {
        "id": "BTfuAs1C8yrP"
      },
      "execution_count": null,
      "outputs": []
    },
    {
      "cell_type": "markdown",
      "source": [
        "ASCII VALUES FOR WORD AVERAGE"
      ],
      "metadata": {
        "id": "eEjz5ot-AY4q"
      }
    },
    {
      "cell_type": "code",
      "source": [
        "def Average(s):\n",
        "  n = len(s)\n",
        "  sum = 0\n",
        "  for i in s:\n",
        "    sum = sum + ord(i)\n",
        "  avg = sum / n\n",
        "  return avg\n",
        "\n",
        "\n",
        "s = input()\n",
        "temp = Average(s)\n",
        "rounded_number = format(temp, \".2f\")\n",
        "print(rounded_number)"
      ],
      "metadata": {
        "id": "qUGBSdhxAcV0",
        "colab": {
          "base_uri": "https://localhost:8080/"
        },
        "outputId": "8258b96c-87d5-48bf-a409-aa175da02d8c"
      },
      "execution_count": null,
      "outputs": [
        {
          "output_type": "stream",
          "name": "stdout",
          "text": [
            "a\n",
            "97.00\n"
          ]
        }
      ]
    },
    {
      "cell_type": "markdown",
      "source": [
        "PALINDROME"
      ],
      "metadata": {
        "id": "AYBoZctgPc8a"
      }
    },
    {
      "cell_type": "code",
      "source": [
        "num = 1221\n",
        "temp = num\n",
        "reverse = 0\n",
        "while temp > 0:\n",
        "    remainder = temp % 10\n",
        "    reverse = (reverse * 10) + remainder\n",
        "    temp = temp // 10\n",
        "if num == reverse:\n",
        "  print('Palindrome')\n",
        "else:\n",
        "  print(\"Not Palindrome\")"
      ],
      "metadata": {
        "colab": {
          "base_uri": "https://localhost:8080/"
        },
        "id": "cCH4Fk5IQz0w",
        "outputId": "a8561f85-2103-49d7-b6b8-f8cc04b02d2d"
      },
      "execution_count": null,
      "outputs": [
        {
          "output_type": "stream",
          "name": "stdout",
          "text": [
            "Palindrome\n"
          ]
        }
      ]
    },
    {
      "cell_type": "markdown",
      "source": [
        "NOT A PALINDROME"
      ],
      "metadata": {
        "id": "IKUOoNOHR2RQ"
      }
    },
    {
      "cell_type": "code",
      "source": [
        "num = 1220\n",
        "temp = num\n",
        "reverse = 0\n",
        "while temp > 0:\n",
        "    remainder = temp % 10\n",
        "    reverse = (reverse * 10) + remainder\n",
        "    temp = temp // 10\n",
        "if num == reverse:\n",
        "  print('Palindrome')\n",
        "else:\n",
        "  print(\"Not Palindrome\")"
      ],
      "metadata": {
        "colab": {
          "base_uri": "https://localhost:8080/"
        },
        "id": "K55KPp_mR4St",
        "outputId": "011e153f-03b8-427f-b212-bd2c9c0097ab"
      },
      "execution_count": null,
      "outputs": [
        {
          "output_type": "stream",
          "name": "stdout",
          "text": [
            "Not Palindrome\n"
          ]
        }
      ]
    },
    {
      "cell_type": "markdown",
      "source": [
        "MAXIMUM PRODUCT"
      ],
      "metadata": {
        "id": "xDylyO6o-fWr"
      }
    },
    {
      "cell_type": "code",
      "source": [
        "R1 = 16\n",
        "R2 = 12\n",
        "L1 = 1\n",
        "L2 = 10\n",
        "a = 8\n",
        "b = 13\n",
        "if(L1<=a<=R1):\n",
        "    print(L1*R2)\n",
        "elif(R2<=b<=L2):\n",
        "    print(R2*L2)\n",
        "else:\n",
        "    print(R1*L2)"
      ],
      "metadata": {
        "id": "g_rM0PHL9aVq"
      },
      "execution_count": null,
      "outputs": []
    },
    {
      "cell_type": "code",
      "source": [
        "def max(a,b):\n",
        "  return a if a > b else b\n",
        "  L1, L2, R1,R2 = map(int,input().split())\n",
        "  max_product = 1,2,3,4\n",
        "  max(L1 * R1,L2 * R2)\n",
        "  print(max_product)"
      ],
      "metadata": {
        "id": "EXnFWQvCGpx9"
      },
      "execution_count": null,
      "outputs": []
    },
    {
      "cell_type": "markdown",
      "source": [
        "AUTOMORPHIC NUMBER"
      ],
      "metadata": {
        "id": "w92sBzWzxnJ2"
      }
    },
    {
      "cell_type": "code",
      "source": [
        "n = int(input())\n",
        "m = n*n\n",
        "num = m%10\n",
        "if num == n:\n",
        "  print(\"Automorphic\")\n",
        "else:\n",
        "  print(\"Not Automorphic\")"
      ],
      "metadata": {
        "colab": {
          "base_uri": "https://localhost:8080/"
        },
        "id": "Tp0TH6YjxrN5",
        "outputId": "1b51c8a0-a844-4de1-ae52-9da25f14932e"
      },
      "execution_count": null,
      "outputs": [
        {
          "output_type": "stream",
          "name": "stdout",
          "text": [
            "6\n",
            "Automorphic\n"
          ]
        }
      ]
    },
    {
      "cell_type": "markdown",
      "source": [
        "ABUNDANT"
      ],
      "metadata": {
        "id": "1ndEeQaNywB5"
      }
    },
    {
      "cell_type": "code",
      "source": [
        "n = int(input())\n",
        "sum = 0\n",
        "for i in range(1,n):\n",
        "  if n%i == 0:\n",
        "    sum = sum + i\n",
        "  if sum > n:\n",
        "    print(\"Abundant\")"
      ],
      "metadata": {
        "colab": {
          "base_uri": "https://localhost:8080/"
        },
        "id": "ADTFe26yzFDB",
        "outputId": "15a44a4e-b645-41f9-94db-0e59da54caca"
      },
      "execution_count": null,
      "outputs": [
        {
          "output_type": "stream",
          "name": "stdout",
          "text": [
            "12\n",
            "Abundant\n",
            "Abundant\n",
            "Abundant\n",
            "Abundant\n",
            "Abundant\n",
            "Abundant\n"
          ]
        }
      ]
    },
    {
      "cell_type": "markdown",
      "source": [
        "HARSHAD NUMBER"
      ],
      "metadata": {
        "id": "MM6PyVbu1pg_"
      }
    },
    {
      "cell_type": "code",
      "source": [
        "n = int(input())\n",
        "sum = 0\n",
        "n1 = n\n",
        "\n",
        "while n > 0:\n",
        "  rem = n%10\n",
        "  sum += rem\n",
        "  n = n//10\n",
        "\n",
        "  if n1 % sum == 0:\n",
        "    print(\"Harshad\")\n",
        "  else:\n",
        "    print(\"Not Harshad\")"
      ],
      "metadata": {
        "colab": {
          "base_uri": "https://localhost:8080/"
        },
        "id": "7X6hNM_41qMd",
        "outputId": "a773b427-2145-43d1-9d77-a3fc82f2d9e8"
      },
      "execution_count": null,
      "outputs": [
        {
          "output_type": "stream",
          "name": "stdout",
          "text": [
            "2\n",
            "Harshad\n"
          ]
        }
      ]
    },
    {
      "cell_type": "markdown",
      "source": [
        "PERFECT NUMBER"
      ],
      "metadata": {
        "id": "pQ5A_5_i5I1G"
      }
    },
    {
      "cell_type": "code",
      "source": [
        "n = int(input())\n",
        "sum = 0\n",
        "for i in range (1, n):\n",
        "  if n % i == 0:\n",
        "    sum = sum+i\n",
        "  if sum == n:\n",
        "    print(\"Perfect Number\")"
      ],
      "metadata": {
        "colab": {
          "base_uri": "https://localhost:8080/"
        },
        "id": "0oARN3uH5LRr",
        "outputId": "ff5a62f9-6262-4dae-a8df-09f551f6a944"
      },
      "execution_count": null,
      "outputs": [
        {
          "output_type": "stream",
          "name": "stdout",
          "text": [
            "28\n",
            "Perfect Number\n",
            "Perfect Number\n",
            "Perfect Number\n",
            "Perfect Number\n",
            "Perfect Number\n",
            "Perfect Number\n",
            "Perfect Number\n",
            "Perfect Number\n",
            "Perfect Number\n",
            "Perfect Number\n",
            "Perfect Number\n",
            "Perfect Number\n",
            "Perfect Number\n",
            "Perfect Number\n"
          ]
        }
      ]
    },
    {
      "cell_type": "markdown",
      "source": [
        "FRIENDLY PAIR"
      ],
      "metadata": {
        "id": "IpyyJBhJ6dwn"
      }
    },
    {
      "cell_type": "code",
      "source": [
        "n1 = int(input())\n",
        "n2 = int(input())\n",
        "sum1 = 0\n",
        "sum2 = 0\n",
        "for i in range(1,n1):\n",
        "  if n1%i == 0:\n",
        "    sum1 = sum1 + i\n",
        "for j in range(1,n2):\n",
        "  if n2%i == 0:\n",
        "    sum2 = sum2 + j\n",
        "  if sum1//n1 == sum2//n2:\n",
        "    print(\"Friendly Pair\")"
      ],
      "metadata": {
        "colab": {
          "base_uri": "https://localhost:8080/"
        },
        "id": "f8t5hGL-6g2C",
        "outputId": "bc630878-1891-46a5-ac1e-bc0ffd12f812"
      },
      "execution_count": null,
      "outputs": [
        {
          "name": "stdout",
          "output_type": "stream",
          "text": [
            "6\n",
            "28\n"
          ]
        }
      ]
    },
    {
      "cell_type": "markdown",
      "source": [
        "PERFECT SQUARE\n"
      ],
      "metadata": {
        "id": "NUy_r3SU91iz"
      }
    },
    {
      "cell_type": "code",
      "source": [
        "n = 25\n",
        "for i in range(1, n):\n",
        "  if i*i == n:\n",
        "    print(\"Perfect square\")"
      ],
      "metadata": {
        "colab": {
          "base_uri": "https://localhost:8080/"
        },
        "id": "Tr5pd8PE94td",
        "outputId": "5ee21ea4-5182-4066-c7b0-24ac6e16d2fa"
      },
      "execution_count": null,
      "outputs": [
        {
          "output_type": "stream",
          "name": "stdout",
          "text": [
            "Perfect square\n"
          ]
        }
      ]
    },
    {
      "cell_type": "markdown",
      "source": [
        "STRINGS IN VOWELS AND CONSONENTS\n"
      ],
      "metadata": {
        "id": "VGfiGC7l5NjB"
      }
    },
    {
      "cell_type": "code",
      "source": [
        "c = input()\n",
        "if(c == 'a' or c == 'e' or c == 'i' or c == 'o' or c == 'u' or c == 'A' or c =='E' or c == 'I' or c == 'O' or c== 'U'):\n",
        "  print(\"Vowel\")\n",
        "else:\n",
        "  pass\n",
        "  print(\"Consonant\")"
      ],
      "metadata": {
        "colab": {
          "base_uri": "https://localhost:8080/"
        },
        "id": "SjUWj3JT5s1m",
        "outputId": "e419d719-aaf9-449f-816d-0dd663e7ae17"
      },
      "execution_count": 5,
      "outputs": [
        {
          "output_type": "stream",
          "name": "stdout",
          "text": [
            "a\n",
            "Vowel\n"
          ]
        }
      ]
    },
    {
      "cell_type": "code",
      "source": [
        "a = input()\n",
        "v = 0\n",
        "c = 0\n",
        "for i in a:\n",
        "  if(i=='i'):\n",
        "    v+=1\n",
        "  else:\n",
        "    pass\n",
        "  c+=1\n",
        "print(\"vowel\",v)\n",
        "print(\"consonant\",c)\n"
      ],
      "metadata": {
        "colab": {
          "base_uri": "https://localhost:8080/"
        },
        "id": "Hn_5Zxdq65dk",
        "outputId": "0aaed882-0244-40fa-e0c9-81d8c13d3cb0"
      },
      "execution_count": 12,
      "outputs": [
        {
          "output_type": "stream",
          "name": "stdout",
          "text": [
            "vinni\n",
            "vowel 2\n",
            "consonant 5\n"
          ]
        }
      ]
    },
    {
      "cell_type": "markdown",
      "source": [
        "ALPHABET"
      ],
      "metadata": {
        "id": "vfn5Vo3o-OZK"
      }
    },
    {
      "cell_type": "code",
      "source": [
        "ch = input()\n",
        "if 'a' <= ch <= 'z'or 'A' <= ch <= 'Z':\n",
        "  print(\"Alpha\")\n",
        "else:\n",
        "  print(\"Not Alpha\")"
      ],
      "metadata": {
        "colab": {
          "base_uri": "https://localhost:8080/"
        },
        "id": "HQEXKSJV-Rls",
        "outputId": "a2fcddde-12e5-4dcf-8754-45e7b4474f79"
      },
      "execution_count": 24,
      "outputs": [
        {
          "output_type": "stream",
          "name": "stdout",
          "text": [
            "abc@\n",
            "Alpha\n"
          ]
        }
      ]
    },
    {
      "cell_type": "markdown",
      "source": [
        "ASKII VALUE"
      ],
      "metadata": {
        "id": "3g32jwdIABjm"
      }
    },
    {
      "cell_type": "code",
      "source": [
        "a  = input()\n",
        "b = ord(a)\n",
        "print(b)"
      ],
      "metadata": {
        "colab": {
          "base_uri": "https://localhost:8080/"
        },
        "id": "bQ80__5aA2nD",
        "outputId": "9a5a0fd5-54c9-4ca6-c6ce-3f6280852d53"
      },
      "execution_count": 29,
      "outputs": [
        {
          "output_type": "stream",
          "name": "stdout",
          "text": [
            "7\n",
            "55\n"
          ]
        }
      ]
    },
    {
      "cell_type": "markdown",
      "source": [
        "LENGTH OF THE STRING"
      ],
      "metadata": {
        "id": "zTE1F1p5A9LQ"
      }
    },
    {
      "cell_type": "code",
      "source": [
        "s = input()\n",
        "l = 0\n",
        "for i in s:\n",
        "  l+=1\n",
        "  print(l)"
      ],
      "metadata": {
        "colab": {
          "base_uri": "https://localhost:8080/"
        },
        "id": "wZCCvbCGBA3s",
        "outputId": "e2f34ba5-f342-4b2e-8047-54d1b6573461"
      },
      "execution_count": 30,
      "outputs": [
        {
          "output_type": "stream",
          "name": "stdout",
          "text": [
            "prasu\n",
            "1\n",
            "2\n",
            "3\n",
            "4\n",
            "5\n"
          ]
        }
      ]
    },
    {
      "cell_type": "markdown",
      "source": [
        "SORT AND SORTED"
      ],
      "metadata": {
        "id": "INNtApAqCCEP"
      }
    },
    {
      "cell_type": "code",
      "source": [
        "a = [\"1,4,3\"]\n",
        "a.sort()\n",
        "print(a)"
      ],
      "metadata": {
        "colab": {
          "base_uri": "https://localhost:8080/"
        },
        "id": "qNRjIgM9Bubk",
        "outputId": "78d973b5-2ee1-49e4-8480-43cbf95659a1"
      },
      "execution_count": 31,
      "outputs": [
        {
          "output_type": "stream",
          "name": "stdout",
          "text": [
            "['1,4,3']\n"
          ]
        }
      ]
    },
    {
      "cell_type": "code",
      "source": [
        "a = [\"1,4,3\"]\n",
        "b = sorted(a)\n",
        "print(b)"
      ],
      "metadata": {
        "colab": {
          "base_uri": "https://localhost:8080/"
        },
        "id": "eOus-QAuB30I",
        "outputId": "2279bfe4-1c31-4c60-9d70-225367b74f00"
      },
      "execution_count": 32,
      "outputs": [
        {
          "output_type": "stream",
          "name": "stdout",
          "text": [
            "['1,4,3']\n"
          ]
        }
      ]
    },
    {
      "cell_type": "markdown",
      "source": [
        "SWAP CASE IN UPPER AND LOWER"
      ],
      "metadata": {
        "id": "gC5yu8uTCSfu"
      }
    },
    {
      "cell_type": "code",
      "source": [
        "str = input()\n",
        "print(str.swapcase())"
      ],
      "metadata": {
        "colab": {
          "base_uri": "https://localhost:8080/"
        },
        "id": "JkVkRKa4CUNQ",
        "outputId": "9bac1dfa-1829-4d53-eab1-1f1d12c5cafb"
      },
      "execution_count": 33,
      "outputs": [
        {
          "output_type": "stream",
          "name": "stdout",
          "text": [
            "prasu\n",
            "PRASU\n"
          ]
        }
      ]
    },
    {
      "cell_type": "code",
      "source": [
        "str = input()\n",
        "str1 = \" \"\n",
        "for i in str:\n",
        "  if i.isupper():\n",
        "    i = i.lower()\n",
        "    str1+=i\n",
        "  else:\n",
        "    i = i.upper()\n",
        "    str1+=i\n",
        "    print(str1)"
      ],
      "metadata": {
        "colab": {
          "base_uri": "https://localhost:8080/"
        },
        "id": "xD1ILeVmCd0n",
        "outputId": "0fec096d-3563-4a50-d411-754faeb5f243"
      },
      "execution_count": 36,
      "outputs": [
        {
          "output_type": "stream",
          "name": "stdout",
          "text": [
            "prasu\n",
            " P\n",
            " PR\n",
            " PRA\n",
            " PRAS\n",
            " PRASU\n"
          ]
        }
      ]
    },
    {
      "cell_type": "code",
      "source": [
        "str = input()\n",
        "str = str[0].upper() + str[1:len(str)-1] + str[len(str)-1]\n",
        "print(str)"
      ],
      "metadata": {
        "colab": {
          "base_uri": "https://localhost:8080/"
        },
        "id": "IFwgizf9Ejr3",
        "outputId": "e51e271d-9507-40b3-fcb5-f456d4ba3f6f"
      },
      "execution_count": 40,
      "outputs": [
        {
          "output_type": "stream",
          "name": "stdout",
          "text": [
            "prasanna\n",
            "Prasanna\n"
          ]
        }
      ]
    },
    {
      "cell_type": "markdown",
      "source": [
        "SPLIT METHOD"
      ],
      "metadata": {
        "id": "Tdl2XmNjFanB"
      }
    },
    {
      "cell_type": "code",
      "source": [
        "str = input()\n",
        "str.split()\n",
        "print(str)"
      ],
      "metadata": {
        "id": "ax3HJGiuKiD7"
      },
      "execution_count": null,
      "outputs": []
    },
    {
      "cell_type": "markdown",
      "source": [
        "REVERSE METHOD"
      ],
      "metadata": {
        "id": "b6HpE2_aH7EK"
      }
    },
    {
      "cell_type": "markdown",
      "source": [
        "WITH USING SLICE METHOD"
      ],
      "metadata": {
        "id": "1vUkUFBGI5JS"
      }
    },
    {
      "cell_type": "code",
      "source": [
        "str = input()\n",
        "str = str[::-1]\n",
        "print(str)\n"
      ],
      "metadata": {
        "colab": {
          "base_uri": "https://localhost:8080/"
        },
        "id": "dlKSPFVcH-eS",
        "outputId": "1cb572ba-6845-4de3-ca00-9c3a59e8f784"
      },
      "execution_count": 50,
      "outputs": [
        {
          "output_type": "stream",
          "name": "stdout",
          "text": [
            "prasu\n",
            "usarp\n"
          ]
        }
      ]
    },
    {
      "cell_type": "markdown",
      "source": [
        "WITHOUT USING SLICE METHOD"
      ],
      "metadata": {
        "id": "AqULaYGPI-c6"
      }
    },
    {
      "cell_type": "code",
      "source": [
        "str = input()\n",
        "str1 = \" \"\n",
        "for i in range(len(str)-1,-1,-1):\n",
        "  str1 +=str[i]\n",
        "  print(str1)"
      ],
      "metadata": {
        "colab": {
          "base_uri": "https://localhost:8080/"
        },
        "id": "qESqKn8CJCFL",
        "outputId": "12359117-4421-4a5c-efc5-68682f7deea2"
      },
      "execution_count": 51,
      "outputs": [
        {
          "output_type": "stream",
          "name": "stdout",
          "text": [
            "prasu\n",
            " u\n",
            " us\n",
            " usa\n",
            " usar\n",
            " usarp\n"
          ]
        }
      ]
    }
  ],
  "metadata": {
    "colab": {
      "provenance": [],
      "authorship_tag": "ABX9TyOByYI4xEQIJHnLbUlIfy71",
      "include_colab_link": true
    },
    "kernelspec": {
      "display_name": "Python 3",
      "name": "python3"
    },
    "language_info": {
      "name": "python"
    }
  },
  "nbformat": 4,
  "nbformat_minor": 0
}