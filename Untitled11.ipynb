{
  "nbformat": 4,
  "nbformat_minor": 0,
  "metadata": {
    "colab": {
      "provenance": [],
      "collapsed_sections": [
        "to_ephX8md_p",
        "340uf0OgATfW",
        "HErb0D1WGsGn",
        "190cD5WGIAFW",
        "rueE3vOJJHwr"
      ],
      "authorship_tag": "ABX9TyNW16ejMS5+LUwytfN24WbY",
      "include_colab_link": true
    },
    "kernelspec": {
      "name": "python3",
      "display_name": "Python 3"
    },
    "language_info": {
      "name": "python"
    }
  },
  "cells": [
    {
      "cell_type": "markdown",
      "metadata": {
        "id": "view-in-github",
        "colab_type": "text"
      },
      "source": [
        "<a href=\"https://colab.research.google.com/github/21JN1A4551/Google-Colab/blob/main/Untitled11.ipynb\" target=\"_parent\"><img src=\"https://colab.research.google.com/assets/colab-badge.svg\" alt=\"Open In Colab\"/></a>"
      ]
    },
    {
      "cell_type": "markdown",
      "source": [
        "# ** LIST METHODS**"
      ],
      "metadata": {
        "id": "to_ephX8md_p"
      }
    },
    {
      "cell_type": "code",
      "source": [
        "thislist = [\"apple\", \"banana\", \"cherry\"]\n",
        "print(thislist)#List is a collection of elements and it look like an array and it takes different types of data type."
      ],
      "metadata": {
        "colab": {
          "base_uri": "https://localhost:8080/"
        },
        "id": "I6aEsYI2muCk",
        "outputId": "753e524c-b35b-4974-d8b0-4c137cc28a27"
      },
      "execution_count": null,
      "outputs": [
        {
          "output_type": "stream",
          "name": "stdout",
          "text": [
            "['apple', 'banana', 'cherry']\n"
          ]
        }
      ]
    },
    {
      "cell_type": "markdown",
      "source": [
        "**ACCESS LIST ITEMS**"
      ],
      "metadata": {
        "id": "9k_d2RAdrkdh"
      }
    },
    {
      "cell_type": "code",
      "source": [
        "thislist = [\"apple\", \"banana\", \"cherry\", \"orange\", \"kiwi\", \"melon\", \"mango\"]\n",
        "print(thislist[2:5])#In this list we can access 2:5 means it will prints from element 2 to element 4,here 7 elemets are in list ,it considers from 0 to 6 is the 7 elemets."
      ],
      "metadata": {
        "colab": {
          "base_uri": "https://localhost:8080/"
        },
        "id": "B3ocwpGTrrl1",
        "outputId": "e18c586e-c5a7-4daf-f11f-5abe003277bc"
      },
      "execution_count": null,
      "outputs": [
        {
          "output_type": "stream",
          "name": "stdout",
          "text": [
            "['cherry', 'orange', 'kiwi']\n"
          ]
        }
      ]
    },
    {
      "cell_type": "markdown",
      "source": [
        "**Change Item Value**"
      ],
      "metadata": {
        "id": "3-M9IU8ruLm5"
      }
    },
    {
      "cell_type": "code",
      "source": [
        "thislist = [\"apple\", \"banana\", \"cherry\", \"orange\", \"kiwi\", \"mango\"]\n",
        "thislist[1:3] = [\"blackcurrant\", \"watermelon\"]\n",
        "print(thislist)#Here we access 1:3 that means here in place of 1 we access black current and in place of 3 we access watermelon."
      ],
      "metadata": {
        "colab": {
          "base_uri": "https://localhost:8080/"
        },
        "id": "qur7dfCGuSBQ",
        "outputId": "2b787111-dd49-4508-cead-4c98b6b6461f"
      },
      "execution_count": null,
      "outputs": [
        {
          "output_type": "stream",
          "name": "stdout",
          "text": [
            "['apple', 'blackcurrant', 'watermelon', 'orange', 'kiwi', 'mango']\n"
          ]
        }
      ]
    },
    {
      "cell_type": "markdown",
      "source": [
        "****"
      ],
      "metadata": {
        "id": "4N4tXV1ovDUD"
      }
    },
    {
      "cell_type": "markdown",
      "source": [
        "**Append Items**"
      ],
      "metadata": {
        "id": "B0M3bfnyvyy-"
      }
    },
    {
      "cell_type": "code",
      "source": [
        "thislist = [\"apple\", \"banana\", \"cherry\"]\n",
        "thislist.append(\"grape\")\n",
        "print(thislist)#append means it will print as last element."
      ],
      "metadata": {
        "colab": {
          "base_uri": "https://localhost:8080/"
        },
        "id": "gUnM7DduwDsf",
        "outputId": "e7008426-ba67-40db-ccf8-5d438b8fc40d"
      },
      "execution_count": null,
      "outputs": [
        {
          "output_type": "stream",
          "name": "stdout",
          "text": [
            "['apple', 'banana', 'cherry', 'grape']\n"
          ]
        }
      ]
    },
    {
      "cell_type": "code",
      "source": [
        "thislist = [\"apple\", \"banana\", \"cherry\"]\n",
        "thislist.insert(1, \"orange\")\n",
        "print(thislist)#insert means here in place of apple,orange will prints."
      ],
      "metadata": {
        "colab": {
          "base_uri": "https://localhost:8080/"
        },
        "id": "x8a3MJgixBDu",
        "outputId": "14e27a1f-9d96-450c-9ea7-29d888ad653b"
      },
      "execution_count": null,
      "outputs": [
        {
          "output_type": "stream",
          "name": "stdout",
          "text": [
            "['apple', 'orange', 'banana', 'cherry']\n"
          ]
        }
      ]
    },
    {
      "cell_type": "markdown",
      "source": [
        "**Remove Specified Item**"
      ],
      "metadata": {
        "id": "mYRoljmPxjUs"
      }
    },
    {
      "cell_type": "code",
      "source": [
        "thislist = [\"apple\", \"banana\", \"cherry\"]\n",
        "thislist.remove(\"banana\")\n",
        "print(thislist)#remove means it will removes elements."
      ],
      "metadata": {
        "colab": {
          "base_uri": "https://localhost:8080/"
        },
        "id": "MPex5015xpSZ",
        "outputId": "a98735d3-d91b-4ee8-ee83-8d9b666822ed"
      },
      "execution_count": null,
      "outputs": [
        {
          "output_type": "stream",
          "name": "stdout",
          "text": [
            "['apple', 'cherry']\n"
          ]
        }
      ]
    },
    {
      "cell_type": "code",
      "source": [
        "thislist = [\"apple\", \"banana\", \"cherry\"]\n",
        "thislist.pop(1)\n",
        "print(thislist)"
      ],
      "metadata": {
        "colab": {
          "base_uri": "https://localhost:8080/"
        },
        "id": "Z0U7fzjIyP93",
        "outputId": "b95bc551-8585-4c46-9e15-6208e64daa50"
      },
      "execution_count": null,
      "outputs": [
        {
          "output_type": "stream",
          "name": "stdout",
          "text": [
            "['apple', 'cherry']\n"
          ]
        }
      ]
    },
    {
      "cell_type": "markdown",
      "source": [
        "**Loop Lists**"
      ],
      "metadata": {
        "id": "d_Me5ySuyYaT"
      }
    },
    {
      "cell_type": "code",
      "source": [
        "thislist = [\"apple\", \"banana\", \"cherry\"]\n",
        "for x in thislist:\n",
        "  print(x)"
      ],
      "metadata": {
        "colab": {
          "base_uri": "https://localhost:8080/"
        },
        "id": "2ZpmMrTjynM7",
        "outputId": "19d31e8c-1b71-406d-c4ba-886775dbf05d"
      },
      "execution_count": null,
      "outputs": [
        {
          "output_type": "stream",
          "name": "stdout",
          "text": [
            "apple\n",
            "banana\n",
            "cherry\n"
          ]
        }
      ]
    },
    {
      "cell_type": "code",
      "source": [
        "from google.colab import drive\n",
        "drive.mount('/content/drive')"
      ],
      "metadata": {
        "id": "d-LajmlX1Uv8"
      },
      "execution_count": null,
      "outputs": []
    },
    {
      "cell_type": "code",
      "source": [
        "thislist = [\"apple\", \"banana\", \"cherry\"]\n",
        "i = 0\n",
        "while i < len(thislist):\n",
        "  print(thislist[i])\n",
        "  i = i + 1"
      ],
      "metadata": {
        "colab": {
          "base_uri": "https://localhost:8080/"
        },
        "id": "48Opq25H79Fx",
        "outputId": "bea41c97-24ba-42fa-cee7-1886597cefd1"
      },
      "execution_count": null,
      "outputs": [
        {
          "output_type": "stream",
          "name": "stdout",
          "text": [
            "apple\n",
            "banana\n",
            "cherry\n"
          ]
        }
      ]
    },
    {
      "cell_type": "markdown",
      "source": [
        "**List Comprehension**"
      ],
      "metadata": {
        "id": "fYTkoodq8Csq"
      }
    },
    {
      "cell_type": "code",
      "source": [
        "fruits = [\"apple\", \"banana\", \"cherry\", \"kiwi\", \"mango\"]\n",
        "newlist = []\n",
        "\n",
        "for x in fruits:\n",
        "  if \"a\" in x:\n",
        "    newlist.append(x)\n",
        "\n",
        "print(newlist)"
      ],
      "metadata": {
        "colab": {
          "base_uri": "https://localhost:8080/"
        },
        "id": "sE6Ve66J8JQi",
        "outputId": "9fc8216d-a7c9-4b02-b87d-91e9347d8a58"
      },
      "execution_count": null,
      "outputs": [
        {
          "output_type": "stream",
          "name": "stdout",
          "text": [
            "['apple', 'banana', 'mango']\n"
          ]
        }
      ]
    },
    {
      "cell_type": "markdown",
      "source": [
        "**Sort Lists**"
      ],
      "metadata": {
        "id": "rLd2qRey9p4u"
      }
    },
    {
      "cell_type": "code",
      "source": [
        "thislist = [\"orange\", \"mango\", \"kiwi\", \"pineapple\", \"banana\"]\n",
        "thislist.sort()\n",
        "print(thislist)"
      ],
      "metadata": {
        "colab": {
          "base_uri": "https://localhost:8080/"
        },
        "id": "NWjh1hpT97jE",
        "outputId": "9b8beabe-c1d7-42eb-ca33-cf981c783e00"
      },
      "execution_count": null,
      "outputs": [
        {
          "output_type": "stream",
          "name": "stdout",
          "text": [
            "['banana', 'kiwi', 'mango', 'orange', 'pineapple']\n"
          ]
        }
      ]
    },
    {
      "cell_type": "markdown",
      "source": [
        "**Copy Lists**\n"
      ],
      "metadata": {
        "id": "EL6uo5oD-RSA"
      }
    },
    {
      "cell_type": "code",
      "source": [
        "thislist = [\"apple\", \"banana\", \"cherry\"]\n",
        "mylist = thislist.copy()\n",
        "print(mylist)\n",
        "thislist = [\"apple\", \"banana\", \"cherry\"]\n",
        "mylist = list(thislist)\n",
        "print(mylist)"
      ],
      "metadata": {
        "colab": {
          "base_uri": "https://localhost:8080/"
        },
        "id": "xAN4mZpq-ZUI",
        "outputId": "73b136cc-7902-4c67-a59c-c84fad1c4ea3"
      },
      "execution_count": null,
      "outputs": [
        {
          "output_type": "stream",
          "name": "stdout",
          "text": [
            "['apple', 'banana', 'cherry']\n",
            "['apple', 'banana', 'cherry']\n"
          ]
        }
      ]
    },
    {
      "cell_type": "markdown",
      "source": [
        "**Join Lists**"
      ],
      "metadata": {
        "id": "4lAP90_l-o9A"
      }
    },
    {
      "cell_type": "code",
      "source": [
        "list1 = [\"a\", \"b\", \"c\"]\n",
        "list2 = [1, 2, 3]\n",
        "\n",
        "list3 = list1 + list2\n",
        "print(list3)"
      ],
      "metadata": {
        "colab": {
          "base_uri": "https://localhost:8080/"
        },
        "id": "X7bgn3ga-riA",
        "outputId": "2825538e-d0ed-4762-e89e-af5f9b4db6f9"
      },
      "execution_count": null,
      "outputs": [
        {
          "output_type": "stream",
          "name": "stdout",
          "text": [
            "['a', 'b', 'c', 1, 2, 3]\n"
          ]
        }
      ]
    },
    {
      "cell_type": "markdown",
      "source": [
        "# **STRINGS**"
      ],
      "metadata": {
        "id": "340uf0OgATfW"
      }
    },
    {
      "cell_type": "code",
      "source": [
        "print(\"Hello\")\n",
        "print('Hello')"
      ],
      "metadata": {
        "colab": {
          "base_uri": "https://localhost:8080/"
        },
        "id": "cnkaDh7jDb01",
        "outputId": "68992cac-f3e7-4fb4-8503-a56bf0275dbe"
      },
      "execution_count": null,
      "outputs": [
        {
          "output_type": "stream",
          "name": "stdout",
          "text": [
            "Hello\n",
            "Hello\n"
          ]
        }
      ]
    },
    {
      "cell_type": "markdown",
      "source": [
        "**SLICING STRING**"
      ],
      "metadata": {
        "id": "Sxd9lgvoDx-C"
      }
    },
    {
      "cell_type": "code",
      "source": [
        "b = \"Hello, World!\"\n",
        "print(b[:5])"
      ],
      "metadata": {
        "colab": {
          "base_uri": "https://localhost:8080/"
        },
        "id": "Jd27ICDEEA9-",
        "outputId": "5990b0e6-1f57-4f68-8c91-2423f41e1ff9"
      },
      "execution_count": null,
      "outputs": [
        {
          "output_type": "stream",
          "name": "stdout",
          "text": [
            "Hello\n"
          ]
        }
      ]
    },
    {
      "cell_type": "markdown",
      "source": [
        "**MODIFY STRING**"
      ],
      "metadata": {
        "id": "uHcrs4EsEvjx"
      }
    },
    {
      "cell_type": "code",
      "source": [
        "a = \"Hello, World!\"\n",
        "print(a.lower())"
      ],
      "metadata": {
        "colab": {
          "base_uri": "https://localhost:8080/"
        },
        "id": "qP9edEeVEx_O",
        "outputId": "8f287ceb-ed9f-4529-c883-afb4b9354595"
      },
      "execution_count": null,
      "outputs": [
        {
          "output_type": "stream",
          "name": "stdout",
          "text": [
            "hello, world!\n"
          ]
        }
      ]
    },
    {
      "cell_type": "markdown",
      "source": [
        "**String Concatenation**"
      ],
      "metadata": {
        "id": "5lk6lIp3FAGc"
      }
    },
    {
      "cell_type": "code",
      "source": [
        "a = \"Hello\"\n",
        "b = \"World\"\n",
        "c = a + b\n",
        "print(c)\n"
      ],
      "metadata": {
        "colab": {
          "base_uri": "https://localhost:8080/"
        },
        "id": "MqvEP5MKFJLZ",
        "outputId": "a1a3fc04-57b3-4093-903e-7ee6c9d952af"
      },
      "execution_count": null,
      "outputs": [
        {
          "output_type": "stream",
          "name": "stdout",
          "text": [
            "HelloWorld\n"
          ]
        }
      ]
    },
    {
      "cell_type": "markdown",
      "source": [
        "**Format - Strings**"
      ],
      "metadata": {
        "id": "6AkXRSFrFqkj"
      }
    },
    {
      "cell_type": "code",
      "source": [
        "age = 36\n",
        "txt = \"My name is John, and I am {}\"\n",
        "print(txt.format(age))\n"
      ],
      "metadata": {
        "colab": {
          "base_uri": "https://localhost:8080/"
        },
        "id": "iRx6FRLPFsnF",
        "outputId": "9c5aeb3d-538e-4e34-fdf7-e67b77bfce50"
      },
      "execution_count": null,
      "outputs": [
        {
          "output_type": "stream",
          "name": "stdout",
          "text": [
            "My name is John, and I am 36\n"
          ]
        }
      ]
    },
    {
      "cell_type": "markdown",
      "source": [
        "**Escape Characters**"
      ],
      "metadata": {
        "id": "R-omIBSeGRgP"
      }
    },
    {
      "cell_type": "code",
      "source": [
        "txt = \"We are the so-called \\\"Vikings\\\" from the north.\""
      ],
      "metadata": {
        "id": "7spDtqo8GbA7"
      },
      "execution_count": null,
      "outputs": []
    },
    {
      "cell_type": "markdown",
      "source": [
        "# TUPLES"
      ],
      "metadata": {
        "id": "HErb0D1WGsGn"
      }
    },
    {
      "cell_type": "code",
      "source": [
        "thistuple = (\"apple\", \"banana\", \"cherry\")\n",
        "print(thistuple)"
      ],
      "metadata": {
        "colab": {
          "base_uri": "https://localhost:8080/"
        },
        "id": "Qa2YvSACGxY3",
        "outputId": "7d44c1ea-7c05-4637-82f4-3747bc464c70"
      },
      "execution_count": null,
      "outputs": [
        {
          "output_type": "stream",
          "name": "stdout",
          "text": [
            "('apple', 'banana', 'cherry')\n"
          ]
        }
      ]
    },
    {
      "cell_type": "markdown",
      "source": [
        "** Access Tuple Items**"
      ],
      "metadata": {
        "id": "Zy6qEIWjG7PP"
      }
    },
    {
      "cell_type": "code",
      "source": [
        "thistuple = (\"apple\", \"banana\", \"cherry\")\n",
        "print(thistuple[1])"
      ],
      "metadata": {
        "colab": {
          "base_uri": "https://localhost:8080/"
        },
        "id": "r41U1jJwHALx",
        "outputId": "207737b5-20dd-487f-f954-c3613c952b31"
      },
      "execution_count": null,
      "outputs": [
        {
          "output_type": "stream",
          "name": "stdout",
          "text": [
            "banana\n"
          ]
        }
      ]
    },
    {
      "cell_type": "markdown",
      "source": [
        "** Update Tuples**"
      ],
      "metadata": {
        "id": "QreOQZgsHHv-"
      }
    },
    {
      "cell_type": "code",
      "source": [
        "x = (\"apple\", \"banana\", \"cherry\")\n",
        "y = list(x)\n",
        "y[1] = \"kiwi\"\n",
        "x = tuple(y)\n",
        "\n",
        "print(x)"
      ],
      "metadata": {
        "colab": {
          "base_uri": "https://localhost:8080/"
        },
        "id": "3h3Gg2w8HJ57",
        "outputId": "0deca3b1-4d7c-4e9c-8d87-c6d15e658e23"
      },
      "execution_count": null,
      "outputs": [
        {
          "output_type": "stream",
          "name": "stdout",
          "text": [
            "('apple', 'kiwi', 'cherry')\n"
          ]
        }
      ]
    },
    {
      "cell_type": "markdown",
      "source": [
        "**Unpack Tuples**"
      ],
      "metadata": {
        "id": "_0j5ApA5HRb6"
      }
    },
    {
      "cell_type": "code",
      "source": [
        "fruits = (\"apple\", \"banana\", \"cherry\")\n",
        "\n",
        "(green, yellow, red) = fruits\n",
        "\n",
        "print(green)\n",
        "print(yellow)\n",
        "print(red)"
      ],
      "metadata": {
        "colab": {
          "base_uri": "https://localhost:8080/"
        },
        "id": "1cQRa1K1HXwQ",
        "outputId": "600c082b-ec10-43a1-93fd-8376b555cdb5"
      },
      "execution_count": null,
      "outputs": [
        {
          "output_type": "stream",
          "name": "stdout",
          "text": [
            "apple\n",
            "banana\n",
            "cherry\n"
          ]
        }
      ]
    },
    {
      "cell_type": "markdown",
      "source": [
        "**Loop Tuples**"
      ],
      "metadata": {
        "id": "y3_kHW4iHj6B"
      }
    },
    {
      "cell_type": "code",
      "source": [
        "thistuple = (\"apple\", \"banana\", \"cherry\")\n",
        "for x in thistuple:\n",
        "  print(x)"
      ],
      "metadata": {
        "colab": {
          "base_uri": "https://localhost:8080/"
        },
        "id": "h9OXnuAUHmvP",
        "outputId": "a16c2b1f-06cf-433b-adcd-2151d3866f95"
      },
      "execution_count": null,
      "outputs": [
        {
          "output_type": "stream",
          "name": "stdout",
          "text": [
            "apple\n",
            "banana\n",
            "cherry\n"
          ]
        }
      ]
    },
    {
      "cell_type": "markdown",
      "source": [
        "**Join Tuples**"
      ],
      "metadata": {
        "id": "TIqfGau7HwUJ"
      }
    },
    {
      "cell_type": "code",
      "source": [
        "tuple1 = (\"a\", \"b\" , \"c\")\n",
        "tuple2 = (1, 2, 3)\n",
        "\n",
        "tuple3 = tuple1 + tuple2\n",
        "print(tuple3)"
      ],
      "metadata": {
        "colab": {
          "base_uri": "https://localhost:8080/"
        },
        "id": "eNxN2EETHy95",
        "outputId": "ae2d8334-a816-40d8-cfbc-9da5992d86b1"
      },
      "execution_count": null,
      "outputs": [
        {
          "output_type": "stream",
          "name": "stdout",
          "text": [
            "('a', 'b', 'c', 1, 2, 3)\n"
          ]
        }
      ]
    },
    {
      "cell_type": "markdown",
      "source": [
        "# SETS"
      ],
      "metadata": {
        "id": "190cD5WGIAFW"
      }
    },
    {
      "cell_type": "code",
      "source": [
        "thisset = {\"apple\", \"banana\", \"cherry\"}\n",
        "print(thisset)"
      ],
      "metadata": {
        "colab": {
          "base_uri": "https://localhost:8080/"
        },
        "id": "r3Ha-KkjIDvu",
        "outputId": "d7b0d615-bf67-4983-e141-5ef196cf1cdc"
      },
      "execution_count": null,
      "outputs": [
        {
          "output_type": "stream",
          "name": "stdout",
          "text": [
            "{'banana', 'cherry', 'apple'}\n"
          ]
        }
      ]
    },
    {
      "cell_type": "markdown",
      "source": [
        "**Access Set Items**"
      ],
      "metadata": {
        "id": "1KXy2gpMIJ6t"
      }
    },
    {
      "cell_type": "code",
      "source": [
        "thisset = {\"apple\", \"banana\", \"cherry\"}\n",
        "\n",
        "for x in thisset:\n",
        "  print(x)"
      ],
      "metadata": {
        "colab": {
          "base_uri": "https://localhost:8080/"
        },
        "id": "GfLSPwPcIQDe",
        "outputId": "d3e6167a-0730-4e6f-9a1e-e92dfa9d7ccc"
      },
      "execution_count": null,
      "outputs": [
        {
          "output_type": "stream",
          "name": "stdout",
          "text": [
            "banana\n",
            "cherry\n",
            "apple\n"
          ]
        }
      ]
    },
    {
      "cell_type": "markdown",
      "source": [
        "**Add Set Items**"
      ],
      "metadata": {
        "id": "jRiGiKCOIYXK"
      }
    },
    {
      "cell_type": "code",
      "source": [
        "thisset = {\"apple\", \"banana\", \"cherry\"}\n",
        "\n",
        "thisset.add(\"orange\")\n",
        "\n",
        "print(thisset)"
      ],
      "metadata": {
        "colab": {
          "base_uri": "https://localhost:8080/"
        },
        "id": "-iBrrJLrIa5p",
        "outputId": "64ceba2e-c9b0-4471-add8-609474e5d7d7"
      },
      "execution_count": null,
      "outputs": [
        {
          "output_type": "stream",
          "name": "stdout",
          "text": [
            "{'banana', 'orange', 'cherry', 'apple'}\n"
          ]
        }
      ]
    },
    {
      "cell_type": "markdown",
      "source": [
        "**Remove Set Items**"
      ],
      "metadata": {
        "id": "JvAmuYs8Igvj"
      }
    },
    {
      "cell_type": "code",
      "source": [
        "thisset = {\"apple\", \"banana\", \"cherry\"}\n",
        "\n",
        "thisset.remove(\"banana\")\n",
        "\n",
        "print(thisset)"
      ],
      "metadata": {
        "colab": {
          "base_uri": "https://localhost:8080/"
        },
        "id": "2Z_5i4PBIl3I",
        "outputId": "c074070b-8547-4eac-c708-533911dcb7ff"
      },
      "execution_count": null,
      "outputs": [
        {
          "output_type": "stream",
          "name": "stdout",
          "text": [
            "{'cherry', 'apple'}\n"
          ]
        }
      ]
    },
    {
      "cell_type": "markdown",
      "source": [
        "**Loop Sets**"
      ],
      "metadata": {
        "id": "D9gnxzYaIqgM"
      }
    },
    {
      "cell_type": "code",
      "source": [
        "thisset = {\"apple\", \"banana\", \"cherry\"}\n",
        "\n",
        "for x in thisset:\n",
        "  print(x)"
      ],
      "metadata": {
        "colab": {
          "base_uri": "https://localhost:8080/"
        },
        "id": "5XRP7wBPIxYy",
        "outputId": "82bffbd0-5ce9-4999-b062-a93ad9155cf9"
      },
      "execution_count": null,
      "outputs": [
        {
          "output_type": "stream",
          "name": "stdout",
          "text": [
            "banana\n",
            "cherry\n",
            "apple\n"
          ]
        }
      ]
    },
    {
      "cell_type": "markdown",
      "source": [
        "**Join Sets**"
      ],
      "metadata": {
        "id": "I4kv7yOjI55i"
      }
    },
    {
      "cell_type": "code",
      "source": [
        "set1 = {\"a\", \"b\" , \"c\"}\n",
        "set2 = {1, 2, 3}\n",
        "\n",
        "set3 = set1.union(set2)\n",
        "print(set3)"
      ],
      "metadata": {
        "colab": {
          "base_uri": "https://localhost:8080/"
        },
        "id": "DCWv3nTDI8kl",
        "outputId": "82bb55cb-594e-4159-c5c3-49a02ababfd8"
      },
      "execution_count": null,
      "outputs": [
        {
          "output_type": "stream",
          "name": "stdout",
          "text": [
            "{1, 2, 3, 'b', 'c', 'a'}\n"
          ]
        }
      ]
    },
    {
      "cell_type": "markdown",
      "source": [
        "# DICTIONARIES"
      ],
      "metadata": {
        "id": "rueE3vOJJHwr"
      }
    },
    {
      "cell_type": "code",
      "source": [
        "thisdict = {\n",
        "  \"brand\": \"Ford\",\n",
        "  \"model\": \"Mustang\",\n",
        "  \"year\": 1964\n",
        "}\n"
      ],
      "metadata": {
        "id": "p_dEcYaNJNRM"
      },
      "execution_count": null,
      "outputs": []
    },
    {
      "cell_type": "markdown",
      "source": [
        "**Access Dictionary Items**"
      ],
      "metadata": {
        "id": "Ux_XL8SMJYMV"
      }
    },
    {
      "cell_type": "code",
      "source": [
        "thisdict = {\n",
        "  \"brand\": \"Ford\",\n",
        "  \"model\": \"Mustang\",\n",
        "  \"year\": 1964\n",
        "}\n",
        "x = thisdict[\"model\"]\n"
      ],
      "metadata": {
        "id": "mZVhIL5xJapl"
      },
      "execution_count": null,
      "outputs": []
    },
    {
      "cell_type": "markdown",
      "source": [
        "**Change Values**"
      ],
      "metadata": {
        "id": "HwgcbbRoJkpG"
      }
    },
    {
      "cell_type": "code",
      "source": [
        "thisdict = {\n",
        "  \"brand\": \"Ford\",\n",
        "  \"model\": \"Mustang\",\n",
        "  \"year\": 1964\n",
        "}\n",
        "thisdict[\"year\"] = 2018"
      ],
      "metadata": {
        "id": "Y7GR4GzVJnXi"
      },
      "execution_count": null,
      "outputs": []
    },
    {
      "cell_type": "markdown",
      "source": [
        "**Add Dictionary Items**"
      ],
      "metadata": {
        "id": "vgv-FZ7pJwyF"
      }
    },
    {
      "cell_type": "code",
      "source": [
        "thisdict = {\n",
        "  \"brand\": \"Ford\",\n",
        "  \"model\": \"Mustang\",\n",
        "  \"year\": 1964\n",
        "}\n",
        "thisdict[\"color\"] = \"red\"\n",
        "print(thisdict)"
      ],
      "metadata": {
        "colab": {
          "base_uri": "https://localhost:8080/"
        },
        "id": "rEClFbGfJzDY",
        "outputId": "df2169ba-cbee-488e-f6bb-9ee15072082e"
      },
      "execution_count": null,
      "outputs": [
        {
          "output_type": "stream",
          "name": "stdout",
          "text": [
            "{'brand': 'Ford', 'model': 'Mustang', 'year': 1964, 'color': 'red'}\n"
          ]
        }
      ]
    },
    {
      "cell_type": "markdown",
      "source": [
        "**Remove Dictionary Items**"
      ],
      "metadata": {
        "id": "dUGJ3XmfJ9Fy"
      }
    },
    {
      "cell_type": "code",
      "source": [
        "thisdict = {\n",
        "  \"brand\": \"Ford\",\n",
        "  \"model\": \"Mustang\",\n",
        "  \"year\": 1964\n",
        "}\n",
        "thisdict.pop(\"model\")\n",
        "print(thisdict)\n"
      ],
      "metadata": {
        "colab": {
          "base_uri": "https://localhost:8080/"
        },
        "id": "C6TBO5n0J_Qi",
        "outputId": "5468f6fd-83e5-4a08-b1b6-8323309f3e6d"
      },
      "execution_count": null,
      "outputs": [
        {
          "output_type": "stream",
          "name": "stdout",
          "text": [
            "{'brand': 'Ford', 'year': 1964}\n"
          ]
        }
      ]
    },
    {
      "cell_type": "markdown",
      "source": [
        "**Loop Dictionaries**"
      ],
      "metadata": {
        "id": "4e_oY45MKIWf"
      }
    },
    {
      "cell_type": "code",
      "source": [
        "for x in thisdict:\n",
        "  print(x)\n"
      ],
      "metadata": {
        "colab": {
          "base_uri": "https://localhost:8080/"
        },
        "id": "-i98nQ3dKK2G",
        "outputId": "faaebd0c-59f7-4e77-8cb3-5c5d8e30ab1c"
      },
      "execution_count": null,
      "outputs": [
        {
          "output_type": "stream",
          "name": "stdout",
          "text": [
            "brand\n",
            "year\n"
          ]
        }
      ]
    },
    {
      "cell_type": "markdown",
      "source": [
        "**Copy Dictionaries**"
      ],
      "metadata": {
        "id": "0Z9j4O5aKxgQ"
      }
    },
    {
      "cell_type": "code",
      "source": [
        "thisdict = {\n",
        "  \"brand\": \"Ford\",\n",
        "  \"model\": \"Mustang\",\n",
        "  \"year\": 1964\n",
        "}\n",
        "mydict = thisdict.copy()\n",
        "print(mydict)"
      ],
      "metadata": {
        "colab": {
          "base_uri": "https://localhost:8080/"
        },
        "id": "sSewVJl8K0RD",
        "outputId": "e23f7a0a-8673-41a9-a820-945dc16b8d0f"
      },
      "execution_count": null,
      "outputs": [
        {
          "output_type": "stream",
          "name": "stdout",
          "text": [
            "{'brand': 'Ford', 'model': 'Mustang', 'year': 1964}\n"
          ]
        }
      ]
    },
    {
      "cell_type": "markdown",
      "source": [
        "**Nested Dictionaries**"
      ],
      "metadata": {
        "id": "LZdEEM_0K8Zv"
      }
    },
    {
      "cell_type": "code",
      "source": [
        "myfamily = {\n",
        "  \"child1\" : {\n",
        "    \"name\" : \"Emil\",\n",
        "    \"year\" : 2004\n",
        "  },\n",
        "  \"child2\" : {\n",
        "    \"name\" : \"Tobias\",\n",
        "    \"year\" : 2007\n",
        "  },\n",
        "  \"child3\" : {\n",
        "    \"name\" : \"Linus\",\n",
        "    \"year\" : 2011\n",
        "  }\n",
        "}\n"
      ],
      "metadata": {
        "id": "H7zHlU08K-mq"
      },
      "execution_count": null,
      "outputs": []
    },
    {
      "cell_type": "markdown",
      "source": [
        "# BUILT-IN-FUNCTIONS"
      ],
      "metadata": {
        "id": "odpRhg7CVkCD"
      }
    },
    {
      "cell_type": "code",
      "source": [
        "#Return the absolute value of a complex number:\n",
        "x = abs(3+5j)"
      ],
      "metadata": {
        "id": "RUkFHe3AYiFu"
      },
      "execution_count": null,
      "outputs": []
    },
    {
      "cell_type": "code",
      "source": [
        "#Returns True if all items in an iterable object are true\n",
        "mylist = [True, True, True]\n",
        "x = all(mylist)"
      ],
      "metadata": {
        "id": "d9lFtlrkZgrb"
      },
      "execution_count": null,
      "outputs": []
    },
    {
      "cell_type": "code",
      "source": [
        "#Returns True if any item in an iterable object is true\n",
        "mylist = [False, True, False]\n",
        "x = any(mylist)"
      ],
      "metadata": {
        "id": "R20L80D2Zotr"
      },
      "execution_count": null,
      "outputs": []
    },
    {
      "cell_type": "code",
      "source": [
        "#Returns a readable version of an object. Replaces none-ascii characters with escape character\n",
        "x = ascii(\"My name is Ståle\")"
      ],
      "metadata": {
        "id": "aBV3Z0j0Z8zv"
      },
      "execution_count": null,
      "outputs": []
    },
    {
      "cell_type": "code",
      "source": [
        "#Returns the binary version of a number\n",
        "x = bin(36)"
      ],
      "metadata": {
        "id": "hubHU4_3aIuH"
      },
      "execution_count": null,
      "outputs": []
    },
    {
      "cell_type": "code",
      "source": [
        "#Returns the boolean value of the specified object\n",
        "x = bool(1)"
      ],
      "metadata": {
        "id": "y8T3SZNyagLw"
      },
      "execution_count": null,
      "outputs": []
    },
    {
      "cell_type": "code",
      "source": [
        "#Returns an array of bytes\n",
        "x = bytearray(4)"
      ],
      "metadata": {
        "id": "nNGVDK3caqp_"
      },
      "execution_count": null,
      "outputs": []
    },
    {
      "cell_type": "code",
      "source": [
        "#Returns a bytes object\n",
        "x = bytes(4)"
      ],
      "metadata": {
        "id": "BNyhSw6na1Fn"
      },
      "execution_count": null,
      "outputs": []
    },
    {
      "cell_type": "code",
      "source": [
        "#Returns True if the specified object is callable, otherwise False\n",
        "def x():\n",
        "  a = 5\n",
        "\n",
        "print(callable(x))"
      ],
      "metadata": {
        "colab": {
          "base_uri": "https://localhost:8080/"
        },
        "id": "QeuHNTEha-0Q",
        "outputId": "59f842d2-bec1-4143-f04b-ea2de5663eca"
      },
      "execution_count": null,
      "outputs": [
        {
          "output_type": "stream",
          "name": "stdout",
          "text": [
            "True\n"
          ]
        }
      ]
    },
    {
      "cell_type": "code",
      "source": [
        "#Returns a character from the specified Unicode code.\n",
        "x = chr(97)"
      ],
      "metadata": {
        "id": "YYtBqhjTbH5X"
      },
      "execution_count": null,
      "outputs": []
    },
    {
      "cell_type": "code",
      "source": [
        "#Returns the specified source as an object, ready to be executed\n",
        "x = compile('print(55)', 'test', 'eval')\n",
        "exec(x)"
      ],
      "metadata": {
        "colab": {
          "base_uri": "https://localhost:8080/"
        },
        "id": "NemilpWybQp8",
        "outputId": "4c367028-ba49-4996-b83a-cd832b3006f3"
      },
      "execution_count": null,
      "outputs": [
        {
          "output_type": "stream",
          "name": "stdout",
          "text": [
            "55\n"
          ]
        }
      ]
    },
    {
      "cell_type": "code",
      "source": [
        "#Returns a complex number\n",
        "x = complex(3, 5)"
      ],
      "metadata": {
        "id": "jpV1Pqx2bgDh"
      },
      "execution_count": null,
      "outputs": []
    },
    {
      "cell_type": "code",
      "source": [
        "#Deletes the specified attribute (property or method) from the specified object\n",
        "class Person:\n",
        "  name = \"John\"\n",
        "  age = 36\n",
        "  country = \"Norway\"\n",
        "\n",
        "delattr(Person, 'age')\n"
      ],
      "metadata": {
        "id": "Nd6jBT1Nbq-6"
      },
      "execution_count": null,
      "outputs": []
    },
    {
      "cell_type": "code",
      "source": [
        "#Returns a dictionary (Array)\n",
        "x = dict(name = \"John\", age = 36, country = \"Norway\")"
      ],
      "metadata": {
        "id": "TsRUFmkhcBvh"
      },
      "execution_count": null,
      "outputs": []
    },
    {
      "cell_type": "code",
      "source": [
        "#Returns a list of the specified object's properties and methods\n",
        "class Person:\n",
        "  name = \"John\"\n",
        "  age = 36\n",
        "  country = \"Norway\"\n",
        "\n",
        "print(dir(Person))"
      ],
      "metadata": {
        "colab": {
          "base_uri": "https://localhost:8080/"
        },
        "id": "I4wsT_NXcJfi",
        "outputId": "25f72e5d-e9c4-48bb-acc3-03b5fe55d01a"
      },
      "execution_count": null,
      "outputs": [
        {
          "output_type": "stream",
          "name": "stdout",
          "text": [
            "['__class__', '__delattr__', '__dict__', '__dir__', '__doc__', '__eq__', '__format__', '__ge__', '__getattribute__', '__gt__', '__hash__', '__init__', '__init_subclass__', '__le__', '__lt__', '__module__', '__ne__', '__new__', '__reduce__', '__reduce_ex__', '__repr__', '__setattr__', '__sizeof__', '__str__', '__subclasshook__', '__weakref__', 'age', 'country', 'name']\n"
          ]
        }
      ]
    },
    {
      "cell_type": "code",
      "source": [
        "#Returns the quotient and the remainder when argument1 is divided by argument2\n",
        "x = divmod(5, 2)"
      ],
      "metadata": {
        "id": "G6timJMFcTMC"
      },
      "execution_count": null,
      "outputs": []
    },
    {
      "cell_type": "code",
      "source": [
        "#Takes a collection (e.g. a tuple) and returns it as an enumerate object\n",
        "x = ('apple', 'banana', 'cherry')\n",
        "y = enumerate(x)"
      ],
      "metadata": {
        "id": "q2G8OiFDgDIO"
      },
      "execution_count": null,
      "outputs": []
    },
    {
      "cell_type": "code",
      "source": [
        "#Evaluates and executes an expression\n",
        "x = 'print(55)'\n",
        "eval(x)"
      ],
      "metadata": {
        "colab": {
          "base_uri": "https://localhost:8080/"
        },
        "id": "K09I_t6-grCx",
        "outputId": "d71f92de-ac6c-413a-9094-0e602d0cac0c"
      },
      "execution_count": null,
      "outputs": [
        {
          "output_type": "stream",
          "name": "stdout",
          "text": [
            "55\n"
          ]
        }
      ]
    },
    {
      "cell_type": "code",
      "source": [
        "#Executes the specified code (or object)\n",
        "x = 'name = \"John\"\\nprint(name)'\n",
        "exec(x)"
      ],
      "metadata": {
        "colab": {
          "base_uri": "https://localhost:8080/"
        },
        "id": "Cgzf2vwAgz55",
        "outputId": "f834eb8c-eeec-4e09-bf59-923e967be1f0"
      },
      "execution_count": null,
      "outputs": [
        {
          "output_type": "stream",
          "name": "stdout",
          "text": [
            "John\n"
          ]
        }
      ]
    },
    {
      "cell_type": "code",
      "source": [
        "#Use a filter function to exclude items in an iterable object\n",
        "ages = [5, 12, 17, 18, 24, 32]\n",
        "\n",
        "def myFunc(x):\n",
        "  if x < 18:\n",
        "    return False\n",
        "  else:\n",
        "    return True\n",
        "\n",
        "adults = filter(myFunc, ages)\n",
        "\n",
        "for x in adults:\n",
        "  print(x)"
      ],
      "metadata": {
        "colab": {
          "base_uri": "https://localhost:8080/"
        },
        "id": "Qb5euMWGhF2d",
        "outputId": "037880f6-ea0a-404b-c38a-ad41417fdd78"
      },
      "execution_count": null,
      "outputs": [
        {
          "output_type": "stream",
          "name": "stdout",
          "text": [
            "18\n",
            "24\n",
            "32\n"
          ]
        }
      ]
    },
    {
      "cell_type": "code",
      "source": [
        "#Returns a floating point number\n",
        "x = float(3)"
      ],
      "metadata": {
        "id": "5ijHofG0hU_x"
      },
      "execution_count": null,
      "outputs": []
    },
    {
      "cell_type": "code",
      "source": [
        "#Formats a specified value\n",
        "x = format(0.5, '%')"
      ],
      "metadata": {
        "id": "cZdypN0yhaGp"
      },
      "execution_count": null,
      "outputs": []
    },
    {
      "cell_type": "code",
      "source": [
        "#Returns a frozenset object\n",
        "mylist = ['apple', 'banana', 'cherry']\n",
        "x = frozenset(mylist)"
      ],
      "metadata": {
        "id": "eLBbBYeqhhwk"
      },
      "execution_count": null,
      "outputs": []
    },
    {
      "cell_type": "code",
      "source": [
        "#Returns the value of the specified attribute (property or method)\n",
        "class Person:\n",
        "  name = \"John\"\n",
        "  age = 36\n",
        "  country = \"Norway\"\n",
        "\n",
        "x = getattr(Person, 'age')\n"
      ],
      "metadata": {
        "id": "xzneeVkChp-t"
      },
      "execution_count": null,
      "outputs": []
    },
    {
      "cell_type": "code",
      "source": [
        "#Returns the current global symbol table as a dictionary\n",
        "x = globals()\n",
        "print(x)"
      ],
      "metadata": {
        "colab": {
          "base_uri": "https://localhost:8080/"
        },
        "id": "q_Nwlevoh07J",
        "outputId": "4dadaca1-70ae-4323-ab6f-b89662355934"
      },
      "execution_count": null,
      "outputs": [
        {
          "output_type": "stream",
          "name": "stdout",
          "text": [
            "{'__name__': '__main__', '__doc__': 'Automatically created module for IPython interactive environment', '__package__': None, '__loader__': None, '__spec__': None, '__builtin__': <module 'builtins' (built-in)>, '__builtins__': <module 'builtins' (built-in)>, '_ih': ['', 'x = abs(3+5j)', '#Return the absolute value of a complex number:\\nx = abs(3+5j)', '#Returns True if all items in an iterable object are true\\nmylist = [True, True, True]\\nx = all(mylist)', '#Returns True if any item in an iterable object is true\\nmylist = [False, True, False]\\nx = any(mylist)', '#Returns a readable version of an object. Replaces none-ascii characters with escape character\\nx = ascii(\"My name is Ståle\")', '#Returns the binary version of a number\\nx = bin(36)', '#Returns the boolean value of the specified object\\nx = bool(1)', '#Returns an array of bytes\\nx = bytearray(4)', '#Returns a bytes object\\nx = bytes(4)', '#Returns True if the specified object is callable, otherwise False\\ndef x():\\n  a = 5\\n\\nprint(callable(x))', '#Returns a character from the specified Unicode code.\\nx = chr(97)', \"#Returns the specified source as an object, ready to be executed\\nx = compile('print(55)', 'test', 'eval')\\nexec(x)\", '#Returns a complex number\\nx = complex(3, 5)', '#Deletes the specified attribute (property or method) from the specified object\\nclass Person:\\n  name = \"John\"\\n  age = 36\\n  country = \"Norway\"\\n\\ndelattr(Person, \\'age\\')', '#Returns a dictionary (Array)\\nx = dict(name = \"John\", age = 36, country = \"Norway\")', '#Returns a list of the specified object\\'s properties and methods\\nclass Person:\\n  name = \"John\"\\n  age = 36\\n  country = \"Norway\"\\n\\nprint(dir(Person))', '#Returns the quotient and the remainder when argument1 is divided by argument2\\nx = divmod(5, 2)', \"#Takes a collection (e.g. a tuple) and returns it as an enumerate object\\nx = ('apple', 'banana', 'cherry')\\ny = enumerate(x)\", \"#Evaluates and executes an expression\\nx = 'print(55)'\\neval(x)\", '#Executes the specified code (or object)\\nx = \\'name = \"John\"\\\\nprint(name)\\'\\nexec(x)', '#Use a filter function to exclude items in an iterable object\\nages = [5, 12, 17, 18, 24, 32]\\n\\ndef myFunc(x):\\n  if x < 18:\\n    return False\\n  else:\\n    return True\\n\\nadults = filter(myFunc, ages)\\n\\nfor x in adults:\\n  print(x)', '#Returns a floating point number\\nx = float(3)', \"#Formats a specified value\\nx = format(0.5, '%')\", \"#Returns a frozenset object\\nmylist = ['apple', 'banana', 'cherry']\\nx = frozenset(mylist)\", '#Returns the value of the specified attribute (property or method)\\nclass Person:\\n  name = \"John\"\\n  age = 36\\n  country = \"Norway\"\\n\\nx = getattr(Person, \\'age\\')', '#Returns the current global symbol table as a dictionary\\nx = globals()\\nprint(x)'], '_oh': {}, '_dh': ['/content'], 'In': ['', 'x = abs(3+5j)', '#Return the absolute value of a complex number:\\nx = abs(3+5j)', '#Returns True if all items in an iterable object are true\\nmylist = [True, True, True]\\nx = all(mylist)', '#Returns True if any item in an iterable object is true\\nmylist = [False, True, False]\\nx = any(mylist)', '#Returns a readable version of an object. Replaces none-ascii characters with escape character\\nx = ascii(\"My name is Ståle\")', '#Returns the binary version of a number\\nx = bin(36)', '#Returns the boolean value of the specified object\\nx = bool(1)', '#Returns an array of bytes\\nx = bytearray(4)', '#Returns a bytes object\\nx = bytes(4)', '#Returns True if the specified object is callable, otherwise False\\ndef x():\\n  a = 5\\n\\nprint(callable(x))', '#Returns a character from the specified Unicode code.\\nx = chr(97)', \"#Returns the specified source as an object, ready to be executed\\nx = compile('print(55)', 'test', 'eval')\\nexec(x)\", '#Returns a complex number\\nx = complex(3, 5)', '#Deletes the specified attribute (property or method) from the specified object\\nclass Person:\\n  name = \"John\"\\n  age = 36\\n  country = \"Norway\"\\n\\ndelattr(Person, \\'age\\')', '#Returns a dictionary (Array)\\nx = dict(name = \"John\", age = 36, country = \"Norway\")', '#Returns a list of the specified object\\'s properties and methods\\nclass Person:\\n  name = \"John\"\\n  age = 36\\n  country = \"Norway\"\\n\\nprint(dir(Person))', '#Returns the quotient and the remainder when argument1 is divided by argument2\\nx = divmod(5, 2)', \"#Takes a collection (e.g. a tuple) and returns it as an enumerate object\\nx = ('apple', 'banana', 'cherry')\\ny = enumerate(x)\", \"#Evaluates and executes an expression\\nx = 'print(55)'\\neval(x)\", '#Executes the specified code (or object)\\nx = \\'name = \"John\"\\\\nprint(name)\\'\\nexec(x)', '#Use a filter function to exclude items in an iterable object\\nages = [5, 12, 17, 18, 24, 32]\\n\\ndef myFunc(x):\\n  if x < 18:\\n    return False\\n  else:\\n    return True\\n\\nadults = filter(myFunc, ages)\\n\\nfor x in adults:\\n  print(x)', '#Returns a floating point number\\nx = float(3)', \"#Formats a specified value\\nx = format(0.5, '%')\", \"#Returns a frozenset object\\nmylist = ['apple', 'banana', 'cherry']\\nx = frozenset(mylist)\", '#Returns the value of the specified attribute (property or method)\\nclass Person:\\n  name = \"John\"\\n  age = 36\\n  country = \"Norway\"\\n\\nx = getattr(Person, \\'age\\')', '#Returns the current global symbol table as a dictionary\\nx = globals()\\nprint(x)'], 'Out': {}, 'get_ipython': <bound method InteractiveShell.get_ipython of <google.colab._shell.Shell object at 0x78577693e0e0>>, 'exit': <IPython.core.autocall.ZMQExitAutocall object at 0x78577693e680>, 'quit': <IPython.core.autocall.ZMQExitAutocall object at 0x78577693e680>, '_': '', '__': '', '___': '', '_i': '#Returns the value of the specified attribute (property or method)\\nclass Person:\\n  name = \"John\"\\n  age = 36\\n  country = \"Norway\"\\n\\nx = getattr(Person, \\'age\\')', '_ii': \"#Returns a frozenset object\\nmylist = ['apple', 'banana', 'cherry']\\nx = frozenset(mylist)\", '_iii': \"#Formats a specified value\\nx = format(0.5, '%')\", '_i1': 'x = abs(3+5j)', 'x': {...}, '_i2': '#Return the absolute value of a complex number:\\nx = abs(3+5j)', '_i3': '#Returns True if all items in an iterable object are true\\nmylist = [True, True, True]\\nx = all(mylist)', 'mylist': ['apple', 'banana', 'cherry'], '_i4': '#Returns True if any item in an iterable object is true\\nmylist = [False, True, False]\\nx = any(mylist)', '_i5': '#Returns a readable version of an object. Replaces none-ascii characters with escape character\\nx = ascii(\"My name is Ståle\")', '_i6': '#Returns the binary version of a number\\nx = bin(36)', '_i7': '#Returns the boolean value of the specified object\\nx = bool(1)', '_i8': '#Returns an array of bytes\\nx = bytearray(4)', '_i9': '#Returns a bytes object\\nx = bytes(4)', '_i10': '#Returns True if the specified object is callable, otherwise False\\ndef x():\\n  a = 5\\n\\nprint(callable(x))', '_i11': '#Returns a character from the specified Unicode code.\\nx = chr(97)', '_i12': \"#Returns the specified source as an object, ready to be executed\\nx = compile('print(55)', 'test', 'eval')\\nexec(x)\", '_i13': '#Returns a complex number\\nx = complex(3, 5)', '_i14': '#Deletes the specified attribute (property or method) from the specified object\\nclass Person:\\n  name = \"John\"\\n  age = 36\\n  country = \"Norway\"\\n\\ndelattr(Person, \\'age\\')', 'Person': <class '__main__.Person'>, '_i15': '#Returns a dictionary (Array)\\nx = dict(name = \"John\", age = 36, country = \"Norway\")', '_i16': '#Returns a list of the specified object\\'s properties and methods\\nclass Person:\\n  name = \"John\"\\n  age = 36\\n  country = \"Norway\"\\n\\nprint(dir(Person))', '_i17': '#Returns the quotient and the remainder when argument1 is divided by argument2\\nx = divmod(5, 2)', '_i18': \"#Takes a collection (e.g. a tuple) and returns it as an enumerate object\\nx = ('apple', 'banana', 'cherry')\\ny = enumerate(x)\", 'y': <enumerate object at 0x785765633500>, '_i19': \"#Evaluates and executes an expression\\nx = 'print(55)'\\neval(x)\", '_i20': '#Executes the specified code (or object)\\nx = \\'name = \"John\"\\\\nprint(name)\\'\\nexec(x)', 'name': 'John', '_i21': '#Use a filter function to exclude items in an iterable object\\nages = [5, 12, 17, 18, 24, 32]\\n\\ndef myFunc(x):\\n  if x < 18:\\n    return False\\n  else:\\n    return True\\n\\nadults = filter(myFunc, ages)\\n\\nfor x in adults:\\n  print(x)', 'ages': [5, 12, 17, 18, 24, 32], 'myFunc': <function myFunc at 0x7857655f4b80>, 'adults': <filter object at 0x7857655d7790>, '_i22': '#Returns a floating point number\\nx = float(3)', '_i23': \"#Formats a specified value\\nx = format(0.5, '%')\", '_i24': \"#Returns a frozenset object\\nmylist = ['apple', 'banana', 'cherry']\\nx = frozenset(mylist)\", '_i25': '#Returns the value of the specified attribute (property or method)\\nclass Person:\\n  name = \"John\"\\n  age = 36\\n  country = \"Norway\"\\n\\nx = getattr(Person, \\'age\\')', '_i26': '#Returns the current global symbol table as a dictionary\\nx = globals()\\nprint(x)'}\n"
          ]
        }
      ]
    },
    {
      "cell_type": "code",
      "source": [
        "#Returns True if the specified object has the specified attribute (property/method)\n",
        "class Person:\n",
        "  name = \"John\"\n",
        "  age = 36\n",
        "  country = \"Norway\"\n",
        "\n",
        "x = hasattr(Person, 'age')"
      ],
      "metadata": {
        "id": "2oH43Olkh-an"
      },
      "execution_count": null,
      "outputs": []
    },
    {
      "cell_type": "code",
      "source": [
        "#Converts a number into a hexadecimal value\n",
        "x = hex(255)"
      ],
      "metadata": {
        "id": "YfKTIfCOiGcn"
      },
      "execution_count": null,
      "outputs": []
    },
    {
      "cell_type": "code",
      "source": [
        "#Allowing user input\n",
        "print('Enter your name:')\n",
        "x = input()\n",
        "print('Hello, ' + x)"
      ],
      "metadata": {
        "id": "Zbc_B1D0miyI"
      },
      "execution_count": null,
      "outputs": []
    },
    {
      "cell_type": "code",
      "source": [
        "#Returns an integer number\n",
        "x = int(3.5)"
      ],
      "metadata": {
        "id": "VjgUQRkyoJ-q"
      },
      "execution_count": null,
      "outputs": []
    },
    {
      "cell_type": "code",
      "source": [
        "#Returns True if a specified object is an instance of a specified object\n",
        "x = isinstance(5, int)"
      ],
      "metadata": {
        "id": "ZP7X6uy_oSDv"
      },
      "execution_count": null,
      "outputs": []
    },
    {
      "cell_type": "code",
      "source": [
        "#Returns True if a specified class is a subclass of a specified object\n",
        "class myAge:\n",
        "  age = 36\n",
        "\n",
        "class myObj(myAge):\n",
        "  name = \"John\"\n",
        "  age = myAge\n",
        "\n",
        "x = issubclass(myObj, myAge)"
      ],
      "metadata": {
        "id": "WOcznHmExqBC"
      },
      "execution_count": null,
      "outputs": []
    },
    {
      "cell_type": "code",
      "source": [
        "#\tReturns an iterator object\n",
        "x = iter([\"apple\", \"banana\", \"cherry\"])\n",
        "print(next(x))\n",
        "print(next(x))\n",
        "print(next(x))"
      ],
      "metadata": {
        "id": "AlHJxNo7yMYJ"
      },
      "execution_count": null,
      "outputs": []
    },
    {
      "cell_type": "code",
      "source": [
        "#\tReturns the length of an object\n",
        "mylist = [\"apple\", \"banana\", \"cherry\"]\n",
        "x = len(mylist)"
      ],
      "metadata": {
        "id": "p0Qrlf1CzpMY"
      },
      "execution_count": null,
      "outputs": []
    },
    {
      "cell_type": "code",
      "source": [
        "#\tReturns a list\n",
        "x = list(('apple', 'banana', 'cherry'))"
      ],
      "metadata": {
        "id": "7n6u3su-0BEp"
      },
      "execution_count": null,
      "outputs": []
    },
    {
      "cell_type": "code",
      "source": [
        "#Returns an updated dictionary of the current local symbol table\n",
        "x = locals()\n",
        "print(x)"
      ],
      "metadata": {
        "id": "B0ggETwO0IVW"
      },
      "execution_count": null,
      "outputs": []
    },
    {
      "cell_type": "code",
      "source": [
        "#Returns the specified iterator with the specified function applied to each item\n",
        "def myfunc(n):\n",
        "  return len(n)\n",
        "\n",
        "x = map(myfunc, ('apple', 'banana', 'cherry'))\n"
      ],
      "metadata": {
        "id": "SdhTg8mW0svt"
      },
      "execution_count": null,
      "outputs": []
    },
    {
      "cell_type": "code",
      "source": [
        "#\tReturns the largest item in an iterable\n",
        "x = max(5, 10)"
      ],
      "metadata": {
        "id": "nYWhoyrg01nw"
      },
      "execution_count": null,
      "outputs": []
    },
    {
      "cell_type": "code",
      "source": [
        "#Returns a memory view object\n",
        "x = memoryview(b\"Hello\")\n",
        "\n",
        "print(x)\n",
        "\n",
        "#return the Unicode of the first character\n",
        "print(x[0])\n",
        "\n",
        "#return the Unicode of the second character\n",
        "print(x[1])"
      ],
      "metadata": {
        "id": "L9fbqzUJ08SJ"
      },
      "execution_count": null,
      "outputs": []
    },
    {
      "cell_type": "code",
      "source": [
        "#Returns the smallest item in an iterable\n",
        "x = min(5, 10)\n"
      ],
      "metadata": {
        "id": "2G1GSLXo1Do_"
      },
      "execution_count": null,
      "outputs": []
    },
    {
      "cell_type": "code",
      "source": [
        "#Returns the next item in an iterable\n",
        "mylist = iter([\"apple\", \"banana\", \"cherry\"])\n",
        "x = next(mylist)\n",
        "print(x)\n",
        "x = next(mylist)\n",
        "print(x)\n",
        "x = next(mylist)\n",
        "print(x)"
      ],
      "metadata": {
        "id": "s6IyhP8q1dEB"
      },
      "execution_count": null,
      "outputs": []
    },
    {
      "cell_type": "code",
      "source": [
        "#Returns a new object\n",
        "x = object()"
      ],
      "metadata": {
        "id": "RT-9NAVD1j8F"
      },
      "execution_count": null,
      "outputs": []
    },
    {
      "cell_type": "code",
      "source": [
        "#Converts a number into an octal\n",
        "x = oct(12)\n"
      ],
      "metadata": {
        "id": "YoGbZNPA1paU"
      },
      "execution_count": null,
      "outputs": []
    },
    {
      "cell_type": "code",
      "source": [
        "#Opens a file and returns a file object\n",
        "f = open(\"demofile.txt\", \"r\")\n",
        "print(f.read())"
      ],
      "metadata": {
        "id": "yA4XyHfr1ytS"
      },
      "execution_count": null,
      "outputs": []
    },
    {
      "cell_type": "code",
      "source": [
        "#Convert an integer representing the Unicode of the specified character\n",
        "x = ord(\"h\")"
      ],
      "metadata": {
        "id": "3Ex6JBlc15FW"
      },
      "execution_count": null,
      "outputs": []
    },
    {
      "cell_type": "code",
      "source": [
        "#Returns the value of x to the power of y\n",
        "x = pow(4, 3)"
      ],
      "metadata": {
        "id": "p3g8TRKH2IVN"
      },
      "execution_count": null,
      "outputs": []
    },
    {
      "cell_type": "code",
      "source": [
        "#\tPrints to the standard output device\n",
        " print(\"Hello World\")\n"
      ],
      "metadata": {
        "id": "WVBdMwjq2Rh8"
      },
      "execution_count": null,
      "outputs": []
    },
    {
      "cell_type": "code",
      "source": [
        "#Returns a sequence of numbers, starting from 0 and increments by 1 (by default)\n",
        "x = range(6)\n",
        "for n in x:\n",
        "  print(n)"
      ],
      "metadata": {
        "id": "yAlvbTU92kZX"
      },
      "execution_count": null,
      "outputs": []
    },
    {
      "cell_type": "code",
      "source": [
        "#Returns a reversed iterator\n",
        "alph = [\"a\", \"b\", \"c\", \"d\"]\n",
        "ralph = reversed(alph)\n",
        "for x in ralph:\n",
        "  print(x)"
      ],
      "metadata": {
        "id": "w6xvno-_2qxp"
      },
      "execution_count": null,
      "outputs": []
    },
    {
      "cell_type": "code",
      "source": [
        "#Rounds a numbers\n",
        "x = round(5.76543, 2)\n",
        "print(x)"
      ],
      "metadata": {
        "id": "qrWQ7b812xrQ"
      },
      "execution_count": null,
      "outputs": []
    },
    {
      "cell_type": "code",
      "source": [
        "#Returns a new set object\n",
        "x = set(('apple', 'banana', 'cherry'))"
      ],
      "metadata": {
        "id": "YpyvtoJe27Ws"
      },
      "execution_count": null,
      "outputs": []
    },
    {
      "cell_type": "code",
      "source": [
        "#Sets an attribute (property/method) of an object\n",
        "class Person:\n",
        "  name = \"John\"\n",
        "  age = 36\n",
        "  country = \"Norway\"\n",
        "\n",
        "setattr(Person, 'age', 40)\n"
      ],
      "metadata": {
        "id": "RLZ9VChu3Biv"
      },
      "execution_count": null,
      "outputs": []
    },
    {
      "cell_type": "code",
      "source": [
        "#Returns a slice object\n",
        "a = (\"a\", \"b\", \"c\", \"d\", \"e\", \"f\", \"g\", \"h\")\n",
        "x = slice(2)\n",
        "print(a[x])\n"
      ],
      "metadata": {
        "id": "dUw5_Odw3JQL"
      },
      "execution_count": null,
      "outputs": []
    },
    {
      "cell_type": "code",
      "source": [
        "#\tReturns a sorted list\n",
        "a = (\"b\", \"g\", \"a\", \"d\", \"f\", \"c\", \"h\", \"e\")\n",
        "x = sorted(a)\n",
        "print(x)"
      ],
      "metadata": {
        "id": "df5-ibM_3PeS"
      },
      "execution_count": null,
      "outputs": []
    },
    {
      "cell_type": "code",
      "source": [
        "#Returns a string object\n",
        "x = str(3.5)"
      ],
      "metadata": {
        "id": "l0MuOy3e3WyM"
      },
      "execution_count": null,
      "outputs": []
    },
    {
      "cell_type": "code",
      "source": [
        "#Sums the items of an iterator\n",
        "a = (1, 2, 3, 4, 5)\n",
        "x = sum(a)"
      ],
      "metadata": {
        "id": "OMHdtWpV3eCe"
      },
      "execution_count": null,
      "outputs": []
    },
    {
      "cell_type": "code",
      "source": [
        "#Returns an object that represents the parent class\n",
        "class Parent:\n",
        "  def __init__(self, txt):\n",
        "    self.message = txt\n",
        "\n",
        "  def printmessage(self):\n",
        "    print(self.message)\n",
        "\n",
        "class Child(Parent):\n",
        "  def __init__(self, txt):\n",
        "    super().__init__(txt)\n",
        "\n",
        "x = Child(\"Hello, and welcome!\")\n",
        "\n",
        "x.printmessage()"
      ],
      "metadata": {
        "id": "NH0qrcs33jtS"
      },
      "execution_count": null,
      "outputs": []
    },
    {
      "cell_type": "code",
      "source": [
        "#Returns a tuple\n",
        "x = tuple(('apple', 'banana', 'cherry'))\n"
      ],
      "metadata": {
        "id": "ToZSigwt3reP"
      },
      "execution_count": null,
      "outputs": []
    },
    {
      "cell_type": "code",
      "source": [
        "#Returns the type of an object\n",
        "a = ('apple', 'banana', 'cherry')\n",
        "b = \"Hello World\"\n",
        "c = 33\n",
        "\n",
        "x = type(a)\n",
        "y = type(b)\n",
        "z = type(c)"
      ],
      "metadata": {
        "id": "6b1iKwaJ33v2"
      },
      "execution_count": null,
      "outputs": []
    },
    {
      "cell_type": "code",
      "source": [
        "#Returns the __dict__ property of an object\n",
        "class Person:\n",
        "  name = \"John\"\n",
        "  age = 36\n",
        "  country = \"norway\"\n",
        "\n",
        "x = vars(Person)"
      ],
      "metadata": {
        "id": "xdfX-oKz396U"
      },
      "execution_count": null,
      "outputs": []
    },
    {
      "cell_type": "code",
      "source": [
        "#Returns an iterator, from two or more iterators\n",
        "a = (\"John\", \"Charles\", \"Mike\")\n",
        "b = (\"Jenny\", \"Christy\", \"Monica\")\n",
        "\n",
        "x = zip(a, b)"
      ],
      "metadata": {
        "id": "vOgjvpT44Ez8"
      },
      "execution_count": null,
      "outputs": []
    },
    {
      "cell_type": "markdown",
      "source": [
        "# STATISTIC MODEL"
      ],
      "metadata": {
        "id": "JLbCL_TW4gBc"
      }
    },
    {
      "cell_type": "code",
      "source": [
        "#Calculates the harmonic mean (central location) of the given data\n",
        "# Import statistics Library\n",
        "import statistics\n",
        "\n",
        "# Calculate harmonic mean\n",
        "print(statistics.harmonic_mean([40, 60, 80]))\n",
        "print(statistics.harmonic_mean([10, 30, 50, 70, 90]))\n"
      ],
      "metadata": {
        "id": "eKNmLzjg4tAR"
      },
      "execution_count": null,
      "outputs": []
    },
    {
      "cell_type": "code",
      "source": [
        "#Calculates the mean (average) of the given data\n",
        "# Import statistics Library\n",
        "import statistics\n",
        "\n",
        "# Calculate average values\n",
        "print(statistics.mean([1, 3, 5, 7, 9, 11, 13]))\n",
        "print(statistics.mean([1, 3, 5, 7, 9, 11]))\n",
        "print(statistics.mean([-11, 5.5, -3.4, 7.1, -9, 22]))"
      ],
      "metadata": {
        "id": "6VEiGf0E5HrE"
      },
      "execution_count": null,
      "outputs": []
    },
    {
      "cell_type": "code",
      "source": [
        "#Calculates the median (middle value) of the given data\n",
        "# Import statistics Library\n",
        "import statistics\n",
        "\n",
        "# Calculate middle values\n",
        "print(statistics.median([1, 3, 5, 7, 9, 11, 13]))\n",
        "print(statistics.median([1, 3, 5, 7, 9, 11]))\n",
        "print(statistics.median([-11, 5.5, -3.4, 7.1, -9, 22]))\n",
        "\n"
      ],
      "metadata": {
        "id": "fEOGtvR45QA1"
      },
      "execution_count": null,
      "outputs": []
    },
    {
      "cell_type": "code",
      "source": [
        "#Calculates the median of grouped continuous data\n",
        "# Import statistics Library\n",
        "import statistics\n",
        "\n",
        "# Calculate the median of grouped continuous data\n",
        "print(statistics.median_grouped([1, 2, 3, 4]))\n",
        "print(statistics.median_grouped([1, 2, 3, 4, 5]))\n",
        "print(statistics.median_grouped([1, 2, 3, 4], 2))\n",
        "print(statistics.median_grouped([1, 2, 3, 4], 3))\n",
        "print(statistics.median_grouped([1, 2, 3, 4], 5))"
      ],
      "metadata": {
        "id": "t_4i2Uuo5hws"
      },
      "execution_count": null,
      "outputs": []
    },
    {
      "cell_type": "code",
      "source": [
        "#Calculates the high median of the given data\n",
        "# Import statistics Library\n",
        "import statistics\n",
        "\n",
        "# Calculate the high middle values\n",
        "print(statistics.median_high([1, 3, 5, 7, 9, 11, 13]))\n",
        "print(statistics.median_high([1, 3, 5, 7, 9, 11]))\n",
        "print(statistics.median_high([-11, 5.5, -3.4, 7.1, -9, 22]))\n"
      ],
      "metadata": {
        "id": "9VVmPtQE5ovc"
      },
      "execution_count": null,
      "outputs": []
    },
    {
      "cell_type": "code",
      "source": [
        "#Calculates the low median of the given data\n",
        "# Import statistics Library\n",
        "import statistics\n",
        "\n",
        "# Calculate the low middle values\n",
        "print(statistics.median_low([1, 3, 5, 7, 9, 11, 13]))\n",
        "print(statistics.median_low([1, 3, 5, 7, 9, 11]))\n",
        "print(statistics.median_low([-11, 5.5, -3.4, 7.1,"
      ],
      "metadata": {
        "id": "H_lUpywv5wqr"
      },
      "execution_count": null,
      "outputs": []
    },
    {
      "cell_type": "code",
      "source": [
        "#Calculates the mode (central tendency) of the given numeric or nominal data\n",
        "# Import statistics Library\n",
        "import statistics\n",
        "\n",
        "# Calculate the mode\n",
        "print(statistics.mode([1, 3, 3, 3, 5, 7, 7 9, 11]))\n",
        "print(statistics.mode([1, 1, 3, -5, 7, -9, 11]))\n",
        "print(statistics.mode(['red', 'green', 'blue', 'red']))\n"
      ],
      "metadata": {
        "id": "XQKIxdAs54ne"
      },
      "execution_count": null,
      "outputs": []
    },
    {
      "cell_type": "code",
      "source": [
        "#Calculates the standard deviation from an entire population\n",
        "# Import statistics Library\n",
        "import statistics\n",
        "\n",
        "# Calculate the standard deviation from an entire population\n",
        "print(statistics.pstdev([1, 3, 5, 7, 9, 11]))\n",
        "print(statistics.pstdev([2, 2.5, 1.25, 3.1, 1.75, 2.8]))\n",
        "print(statistics.pstdev([-11, 5.5, -3.4, 7.1]))\n",
        "print(statistics.pstdev([1, 30, 50, 100]))\n"
      ],
      "metadata": {
        "id": "Ip1iGGKz6Cgw"
      },
      "execution_count": null,
      "outputs": []
    },
    {
      "cell_type": "code",
      "source": [
        "#\tCalculates the standard deviation from a sample of data\n",
        "# Import statistics Library\n",
        "import statistics\n",
        "\n",
        "# Calculate the standard deviation from a sample of data\n",
        "print(statistics.stdev([1, 3, 5, 7, 9, 11]))\n",
        "print(statistics.stdev([2, 2.5, 1.25, 3.1, 1.75, 2.8]))\n",
        "print(statistics.stdev([-11, 5.5, -3.4, 7.1]))\n",
        "print(statistics.stdev([1, 30, 50, 100]))"
      ],
      "metadata": {
        "id": "YgNWm_Ic6JWn"
      },
      "execution_count": null,
      "outputs": []
    },
    {
      "cell_type": "code",
      "source": [
        "#Calculates the variance of an entire population\n",
        "# Import statistics Library\n",
        "import statistics\n",
        "\n",
        "# Calculate the variance of an entire population\n",
        "print(statistics.pvariance([1, 3, 5, 7, 9, 11]))\n",
        "print(statistics.pvariance([2, 2.5, 1.25, 3.1, 1.75, 2.8]))\n",
        "print(statistics.pvariance([-11, 5.5, -3.4, 7.1]))\n",
        "print(statistics.pvariance([1, 30, 50, 100]))"
      ],
      "metadata": {
        "id": "G6dSrVZT6Qhf"
      },
      "execution_count": null,
      "outputs": []
    },
    {
      "cell_type": "code",
      "source": [
        "#Calculates the variance from a sample of data\n",
        "# Import statistics Library\n",
        "import statistics\n",
        "\n",
        "# Calculate the variance from a sample of data\n",
        "print(statistics.variance([1, 3, 5, 7, 9, 11]))\n",
        "print(statistics.variance([2, 2.5, 1.25, 3.1, 1.75, 2.8]))\n",
        "print(statistics.variance([-11, 5.5, -3.4, 7.1]))\n",
        "print(statistics.variance([1, 30, 50, 100]))"
      ],
      "metadata": {
        "id": "98vuc_xp6Yh8"
      },
      "execution_count": null,
      "outputs": []
    },
    {
      "cell_type": "markdown",
      "source": [
        "# MATH MODULE"
      ],
      "metadata": {
        "id": "JkoaMg7Y6x7k"
      }
    },
    {
      "cell_type": "code",
      "source": [
        "#Returns the arc cosine of a number\n",
        "# Import math Library\n",
        "import math\n",
        "\n",
        "# Return the arc cosine of numbers\n",
        "print(math.acos(0.55))\n",
        "print(math.acos(-0.55))\n",
        "print(math.acos(0))\n",
        "print(math.acos(1))\n",
        "print(math.acos(-1))"
      ],
      "metadata": {
        "id": "Iq3BTHA27C0Q"
      },
      "execution_count": null,
      "outputs": []
    },
    {
      "cell_type": "code",
      "source": [
        "#Returns the inverse hyperbolic cosine of a number\n",
        "# Import math Library\n",
        "import math\n",
        "\n",
        "# Return the inverse hyperbolic cosine of different numbers\n",
        "print (math.acosh(7))\n",
        "print (math.acosh(56))\n",
        "print (math.acosh(2.45))\n",
        "print (math.acosh(1))"
      ],
      "metadata": {
        "id": "qSNUnPIH7NLM"
      },
      "execution_count": null,
      "outputs": []
    },
    {
      "cell_type": "code",
      "source": [
        "#Returns the arc sine of a number\n",
        "# Import math Library\n",
        "import math\n",
        "\n",
        "# Return the arc sine of numbers\n",
        "print(math.asin(0.55))\n",
        "print(math.asin(-0.55))\n",
        "print(math.asin(0))\n",
        "print(math.asin(1))\n",
        "print(math.asin(-1))\n"
      ],
      "metadata": {
        "id": "HIt0d3zJ7Wcb"
      },
      "execution_count": null,
      "outputs": []
    },
    {
      "cell_type": "code",
      "source": [
        "#Returns the inverse hyperbolic sine of a number\n",
        "# Import math Library\n",
        "import math\n",
        "\n",
        "# Return the inverse hyperbolic sine of numbers\n",
        "print(math.asinh(7))\n",
        "print(math.asinh(56))\n",
        "print(math.asinh(2.45))\n",
        "print(math.asinh(1))"
      ],
      "metadata": {
        "id": "FBujAqYa7jDX"
      },
      "execution_count": null,
      "outputs": []
    },
    {
      "cell_type": "code",
      "source": [
        "#\tReturns the arc tangent of a number in radians\n",
        "#Import math Library\n",
        "import math\n",
        "\n",
        "#fReturn the arc tangent of different numbers\n",
        "print (math.atan(0.39))\n",
        "print (math.atan(67))\n",
        "print (math.atan(-21))"
      ],
      "metadata": {
        "id": "AuQ1Axo-7oe-"
      },
      "execution_count": null,
      "outputs": []
    },
    {
      "cell_type": "code",
      "source": [
        "#Returns the arc tangent of y/x in radians\n",
        "# Import math Library\n",
        "import math\n",
        "\n",
        "# Return the arc tangent of y/x in radians\n",
        "print(math.atan2(8, 5))\n",
        "print(math.atan2(20, 10))\n",
        "print(math.atan2(34, -7))"
      ],
      "metadata": {
        "id": "YAg3knXl8J01"
      },
      "execution_count": null,
      "outputs": []
    },
    {
      "cell_type": "code",
      "source": [
        "#Returns the inverse hyperbolic tangent of a number\n",
        "#Import math Library\n",
        "import math\n",
        "\n",
        "#print the hyperbolic arctangent of different numbers\n",
        "print(math.atanh(0.59))\n",
        "print(math.atanh(-0.12))"
      ],
      "metadata": {
        "id": "_XvLc0Mw8cbS"
      },
      "execution_count": null,
      "outputs": []
    },
    {
      "cell_type": "code",
      "source": [
        "#Rounds a number up to the nearest integer\n",
        "# Import math library\n",
        "import math\n",
        "\n",
        "# Round a number upward to its nearest integer\n",
        "print(math.ceil(1.4))\n",
        "print(math.ceil(5.3))\n",
        "print(math.ceil(-5.3))\n",
        "print(math.ceil(22.6))\n",
        "print(math.ceil(10.0))\n"
      ],
      "metadata": {
        "id": "8j-d5XM38t1M"
      },
      "execution_count": null,
      "outputs": []
    },
    {
      "cell_type": "code",
      "source": [
        "#Returns the number of ways to choose k items from n items without repetition and order\n",
        "# Import math Library\n",
        "import math\n",
        "\n",
        "# Initialize the number of items to choose from\n",
        "n = 7\n",
        "\n",
        "# Initialize the number of possibilities to choose\n",
        "k = 5\n",
        "\n",
        "# Print total number of possible combinations\n",
        "print (math.comb(n, k))"
      ],
      "metadata": {
        "id": "1iTUEl0q82rB"
      },
      "execution_count": null,
      "outputs": []
    },
    {
      "cell_type": "code",
      "source": [
        "#Returns a float consisting of the value of the first parameter and the sign of the second parameter\n",
        "#Import math Library\n",
        "import math\n",
        "\n",
        "#Return the value of the first parameter and the sign of the second parameter\n",
        "print(math.copysign(4, -1))\n",
        "print(math.copysign(-8, 97.21))\n",
        "print(math.copysign(-43, -76))"
      ],
      "metadata": {
        "id": "Y18B6Y048-Yc"
      },
      "execution_count": null,
      "outputs": []
    },
    {
      "cell_type": "code",
      "source": [
        "#\tReturns the cosine of a number# Import math Library\n",
        "import math\n",
        "\n",
        "# Return the cosine of different numbers\n",
        "print (math.cos(0.00))\n",
        "print (math.cos(-1.23))\n",
        "print (math.cos(10))\n",
        "print (math.cos(3.14159265359))"
      ],
      "metadata": {
        "id": "tD5WmMyL9FjA"
      },
      "execution_count": null,
      "outputs": []
    },
    {
      "cell_type": "code",
      "source": [
        "#Returns the hyperbolic cosine of a number\n",
        "# Import math Library\n",
        "import math\n",
        "\n",
        "# Return the hyperbolic cosine of different numbers\n",
        "print (math.cosh(1))\n",
        "print (math.cosh(8.90))\n",
        "print (math.cosh(0))\n",
        "print (math.cosh(1.52))"
      ],
      "metadata": {
        "id": "ixuXrJfh9Kwi"
      },
      "execution_count": null,
      "outputs": []
    },
    {
      "cell_type": "code",
      "source": [
        "#Converts an angle from radians to degrees\n",
        "# Import math Library\n",
        "import math\n",
        "\n",
        "# Convert from radians to degrees:\n",
        "print (math.degrees(8.90))\n",
        "print (math.degrees(-20))\n",
        "print (math.degrees(1))\n",
        "print (math.degrees(90))"
      ],
      "metadata": {
        "id": "w7nOvIyY9R1X"
      },
      "execution_count": null,
      "outputs": []
    },
    {
      "cell_type": "code",
      "source": [
        "#Returns the Euclidean distance between two points (p and q), where p and q are the coordinates of that point\n",
        "# Import math Library\n",
        "import math\n",
        "\n",
        "p = [3]\n",
        "q = [1]\n",
        "\n",
        "# Calculate Euclidean distance\n",
        "print (math.dist(p, q))\n",
        "\n",
        "p = [3, 3]\n",
        "q = [6, 12]\n",
        "\n",
        "# Calculate Euclidean distance\n",
        "print (math.dist(p, q))"
      ],
      "metadata": {
        "id": "ThQCGst89Zbg"
      },
      "execution_count": null,
      "outputs": []
    },
    {
      "cell_type": "code",
      "source": [
        "#Returns the error function of a number\n",
        "# Import math Library\n",
        "import math\n",
        "\n",
        "# Print error function for different numbers\n",
        "print (math.erf(0.67))\n",
        "print (math.erf(1.34))\n",
        "print (math.erf(-6))"
      ],
      "metadata": {
        "id": "l5oOsw5m9hQu"
      },
      "execution_count": null,
      "outputs": []
    },
    {
      "cell_type": "code",
      "source": [
        "#Returns the complementary error function of a number\n",
        "# Import math Library\n",
        "import math\n",
        "\n",
        "# Print complementary error function for different numbers\n",
        "print (math.erfc(0.67))\n",
        "print (math.erfc(1.34))\n",
        "print (math.erfc(-6))\n"
      ],
      "metadata": {
        "id": "WyTB1uy29nmn"
      },
      "execution_count": null,
      "outputs": []
    },
    {
      "cell_type": "code",
      "source": [
        "#Returns E raised to the power of x\n",
        "#Import math Library\n",
        "import math\n",
        "\n",
        "#find the exponential of the specified value\n",
        "print(math.exp(65))\n",
        "print(math.exp(-6.89))"
      ],
      "metadata": {
        "id": "jKHJawYp95ot"
      },
      "execution_count": null,
      "outputs": []
    },
    {
      "cell_type": "code",
      "source": [
        "#Returns Ex - 1\n",
        "#Import math Library\n",
        "import math\n",
        "\n",
        "#Return the exponential value of a number - 1\n",
        "print(math.expm1(32))\n",
        "print(math.expm1(-10.89))\n"
      ],
      "metadata": {
        "id": "HsoGs-_G-_tA"
      },
      "execution_count": null,
      "outputs": []
    },
    {
      "cell_type": "code",
      "source": [
        "#Returns the absolute value of a number\n",
        "#Import math Library\n",
        "import math\n",
        "\n",
        "#Print absolute values from numbers\n",
        "print(math.fabs(-66.43))\n",
        "print(math.fabs(-7))"
      ],
      "metadata": {
        "id": "vjE-ekVl_J1E"
      },
      "execution_count": null,
      "outputs": []
    },
    {
      "cell_type": "code",
      "source": [
        "#Returns the factorial of a number\n",
        "#Import math Library\n",
        "import math\n",
        "\n",
        "#Return factorial of a number\n",
        "print(math.factorial(9))\n",
        "print(math.factorial(6))\n",
        "print(math.factorial(12))"
      ],
      "metadata": {
        "id": "rQIlXP4h_cVx"
      },
      "execution_count": null,
      "outputs": []
    },
    {
      "cell_type": "code",
      "source": [
        "#Rounds a number down to the nearest integer\n",
        "# Import math library\n",
        "import math\n",
        "\n",
        "# Round numbers down to the nearest integer\n",
        "print(math.floor(0.6))\n",
        "print(math.floor(1.4))\n",
        "print(math.floor(5.3))\n",
        "print(math.floor(-5.3))\n",
        "print(math.floor(22.6))\n",
        "print(math.floor(10.0))"
      ],
      "metadata": {
        "id": "D1kLEGSk_h73"
      },
      "execution_count": null,
      "outputs": []
    },
    {
      "cell_type": "code",
      "source": [
        "#Returns the remainder of x/y\n",
        "# Import math Library\n",
        "import math\n",
        "\n",
        "# Return the remainder of x/y\n",
        "print(math.fmod(20, 4))\n",
        "print(math.fmod(20, 3))\n",
        "print(math.fmod(15, 6))\n",
        "print(math.fmod(-10, 3))\n",
        "print(math.fmod(0, 0))\n"
      ],
      "metadata": {
        "id": "xakPUQvD_tcO"
      },
      "execution_count": null,
      "outputs": []
    },
    {
      "cell_type": "code",
      "source": [
        "#Returns the mantissa and the exponent, of a specified number\n",
        "#Import math Library\n",
        "import math\n",
        "\n",
        "#Return mantissa and exponent of numbers\n",
        "print(math.frexp(4))\n",
        "print(math.frexp(-4))\n",
        "print(math.frexp(7))"
      ],
      "metadata": {
        "id": "C4hJRt-J_zz-"
      },
      "execution_count": null,
      "outputs": []
    },
    {
      "cell_type": "code",
      "source": [
        "#Returns the sum of all items in any iterable (tuples, arrays, lists, etc.)\n",
        "# Import math Library\n",
        "import math\n",
        "\n",
        "# Print the sum of all items\n",
        "print(math.fsum([1, 2, 3, 4, 5]))\n",
        "print(math.fsum([100, 400, 340, 500]))\n",
        "print(math.fsum([1.7, 0.3, 1.5, 4.5]))"
      ],
      "metadata": {
        "id": "4VT3EIwY__mE"
      },
      "execution_count": null,
      "outputs": []
    },
    {
      "cell_type": "code",
      "source": [
        "#Returns the gamma function at x\n",
        "# Import math Library\n",
        "import math\n",
        "\n",
        "# Return the gamma function for different numbers\n",
        "print(math.gamma(-0.1))\n",
        "print(math.gamma(8))\n",
        "print(math.gamma(1.2))\n",
        "print(math.gamma(80))\n",
        "print(math.gamma(-0.55))"
      ],
      "metadata": {
        "id": "EGkUmS-sAHEe"
      },
      "execution_count": null,
      "outputs": []
    },
    {
      "cell_type": "code",
      "source": [
        "#Returns the greatest common divisor of two integers\n",
        "#Import math Library\n",
        "import math\n",
        "\n",
        "#find the  the greatest common divisor of the two integers\n",
        "print (math.gcd(3, 6))\n",
        "print (math.gcd(6, 12))\n",
        "print (math.gcd(12, 36))\n",
        "print (math.gcd(-12, -36))\n",
        "print (math.gcd(5, 12))\n",
        "print (math.gcd(10, 0))\n",
        "print (math.gcd(0, 34))\n",
        "print (math.gcd(0, 0))"
      ],
      "metadata": {
        "id": "nMWe3miPAXSi"
      },
      "execution_count": null,
      "outputs": []
    },
    {
      "cell_type": "code",
      "source": [
        "#Returns the Euclidean norm\n",
        "#Import math Library\n",
        "import math\n",
        "\n",
        "#set perpendicular and base\n",
        "parendicular = 10\n",
        "base = 5\n",
        "\n",
        "#print the hypotenuse of a right-angled triangle\n",
        "print(math.hypot(parendicular, base))\n"
      ],
      "metadata": {
        "id": "jMwKcstGAdJf"
      },
      "execution_count": null,
      "outputs": []
    },
    {
      "cell_type": "code",
      "source": [
        "#Checks whether two values are close to each other, or not\n",
        "#Import math Library\n",
        "import math\n",
        "\n",
        "#compare the closeness of two values\n",
        "print(math.isclose(1.233, 1.4566))\n",
        "print(math.isclose(1.233, 1.233))\n",
        "print(math.isclose(1.233, 1.24))\n",
        "print(math.isclose(1.233, 1.233000001))"
      ],
      "metadata": {
        "id": "aA83j7BcAsGK"
      },
      "execution_count": null,
      "outputs": []
    },
    {
      "cell_type": "code",
      "source": [
        "#Checks whether a number is finite or not\n",
        "# Import math Library\n",
        "import math\n",
        "\n",
        "# Check whether the values are finite or not\n",
        "print(math.isfinite(2000))\n",
        "print(math.isfinite(-45.34))\n",
        "print(math.isfinite(+45.34))\n",
        "print(math.isfinite(math.inf))\n",
        "print(math.isfinite(float(\"nan\")))\n",
        "print(math.isfinite(float(\"inf\")))\n",
        "print(math.isfinite(float(\"-inf\")))\n",
        "print(math.isfinite(-math.inf))\n",
        "print(math.isfinite(0.0))"
      ],
      "metadata": {
        "id": "IlFe7KMrAysw"
      },
      "execution_count": null,
      "outputs": []
    },
    {
      "cell_type": "code",
      "source": [
        "#Checks whether a number is infinite or not\n",
        "# Import math Library\n",
        "import math\n",
        "\n",
        "# Check whether the values are infinite or not\n",
        "print(math.isinf(56))\n",
        "print(math.isinf(-45.34))\n",
        "print(math.isinf(+45.34))\n",
        "print(math.isinf(math.inf))\n",
        "print(math.isinf(float(\"nan\")))\n",
        "print(math.isinf(float(\"inf\")))\n",
        "print(math.isinf(float(\"-inf\")))\n",
        "print(math.isinf(-math.inf))"
      ],
      "metadata": {
        "id": "M2RBwWP6A5gG"
      },
      "execution_count": null,
      "outputs": []
    },
    {
      "cell_type": "code",
      "source": [
        "#Checks whether a value is NaN (not a number) or not\n",
        "# Import math Library\n",
        "import math\n",
        "\n",
        "# Check whether some values are NaN or not\n",
        "print (math.isnan (56))\n",
        "print (math.isnan (-45.34))\n",
        "print (math.isnan (+45.34))\n",
        "print (math.isnan (math.inf))\n",
        "print (math.isnan (float(\"nan\")))\n",
        "print (math.isnan (float(\"inf\")))\n",
        "print (math.isnan (float(\"-inf\")))\n",
        "print (math.isnan (math.nan))\n"
      ],
      "metadata": {
        "id": "UUrxrDH9BA76"
      },
      "execution_count": null,
      "outputs": []
    },
    {
      "cell_type": "code",
      "source": [
        "#\tRounds a square root number downwards to the nearest integer\n",
        "# Import math Library\n",
        "import math\n",
        "\n",
        "# Print the square root of different numbers\n",
        "print (math.sqrt(10))\n",
        "print (math.sqrt (12))\n",
        "print (math.sqrt (68))\n",
        "print (math.sqrt (100))\n",
        "\n",
        "# Round square root downward to the nearest integer\n",
        "print (math.isqrt(10))\n",
        "print (math.isqrt (12))\n",
        "print (math.isqrt (68))\n",
        "print (math.isqrt (100))\n"
      ],
      "metadata": {
        "id": "JUeFAIzaBJ22"
      },
      "execution_count": null,
      "outputs": []
    },
    {
      "cell_type": "code",
      "source": [
        "#Returns the inverse of math.frexp() which is x * (2**i) of the given numbers x and i\n",
        "#Import math Library\n",
        "import math\n",
        "\n",
        "#Return value of x * (2**i)\n",
        "print(math.ldexp(9, 3))\n",
        "print(math.ldexp(-5, 2))\n",
        "print(math.ldexp(15, 2))"
      ],
      "metadata": {
        "id": "m1uxloKcBSX2"
      },
      "execution_count": null,
      "outputs": []
    },
    {
      "cell_type": "code",
      "source": [
        "#Returns the log gamma value of x\n",
        "# Import math Library\n",
        "import math\n",
        "\n",
        "# Return the log gamma value of different numbers\n",
        "print (math.lgamma(7))\n",
        "print (math.lgamma(-4.2))"
      ],
      "metadata": {
        "id": "29mD3eDrBai9"
      },
      "execution_count": null,
      "outputs": []
    },
    {
      "cell_type": "code",
      "source": [
        "#Returns the natural logarithm of a number, or the logarithm of number to base\n",
        "# Import math Library\n",
        "import math\n",
        "\n",
        "# Return the natural logarithm of different numbers\n",
        "print(math.log(2.7183))\n",
        "print(math.log(2))\n",
        "print(math.log(1))"
      ],
      "metadata": {
        "id": "gxxHR3u-BoNy"
      },
      "execution_count": null,
      "outputs": []
    },
    {
      "cell_type": "code",
      "source": [
        "#Returns the base-10 logarithm of x\n",
        "# Import math Library\n",
        "import math\n",
        "\n",
        "# Return the base-10 logarithm of different numbers\n",
        "print(math.log10(2.7183))\n",
        "print(math.log10(2))\n",
        "print(math.log10(1))"
      ],
      "metadata": {
        "id": "uO7OGkVZByzG"
      },
      "execution_count": null,
      "outputs": []
    },
    {
      "cell_type": "code",
      "source": [
        "#Returns the natural logarithm of 1+x\n",
        "# Import math Library\n",
        "import math\n",
        "\n",
        "# Return the log(1+number) for different numbers\n",
        "print(math.log1p(2.7183))\n",
        "print(math.log1p(2))\n",
        "print(math.log1p(1))"
      ],
      "metadata": {
        "id": "uowLqrcaB5YJ"
      },
      "execution_count": null,
      "outputs": []
    },
    {
      "cell_type": "code",
      "source": [
        "#Returns the base-2 logarithm of x\n",
        "# Import math Library\n",
        "import math\n",
        "\n",
        "# Return the base-2 logarithm of different numbers\n",
        "print(math.log2(2.7183))\n",
        "print(math.log2(2))\n",
        "print(math.log2(1))"
      ],
      "metadata": {
        "id": "VizB9ZAYB-T_"
      },
      "execution_count": null,
      "outputs": []
    },
    {
      "cell_type": "code",
      "source": [
        "#Returns the number of ways to choose k items from n items with order and without repetition\n",
        "# Import math Library\n",
        "import math\n",
        "\n",
        "# Initialize the number of items to choose from\n",
        "n = 7\n",
        "\n",
        "# Initialize the number of items to choose\n",
        "k = 5\n",
        "\n",
        "# Print the number of ways to choose k items from n items\n",
        "print (math.perm(n, k))\n"
      ],
      "metadata": {
        "id": "i3J8uHeVCERt"
      },
      "execution_count": null,
      "outputs": []
    },
    {
      "cell_type": "code",
      "source": [
        "#Returns the value of x to the power of y\n",
        "# Import math Library\n",
        "import math\n",
        "\n",
        "#Return the value of 9 raised to the power of 3\n",
        "print(math.pow(9, 3))"
      ],
      "metadata": {
        "id": "9-b5fmyvCTps"
      },
      "execution_count": null,
      "outputs": []
    },
    {
      "cell_type": "code",
      "source": [
        "#Returns the product of all the elements in an iterable\n",
        "# Import math Library\n",
        "import math\n",
        "\n",
        "sequence = (2, 2, 2)\n",
        "\n",
        "#Return the product of the elements\n",
        "print(math.prod(sequence))"
      ],
      "metadata": {
        "id": "bYgm5jCTCczT"
      },
      "execution_count": null,
      "outputs": []
    },
    {
      "cell_type": "code",
      "source": [
        "#Converts a degree value into radians\n",
        "# Import math Library\n",
        "import math\n",
        "\n",
        "# Convert different degrees into radians\n",
        "print(math.radians(180))\n",
        "print(math.radians(100.03))\n",
        "print(math.radians(-20))"
      ],
      "metadata": {
        "id": "3WEE3uEBCs3P"
      },
      "execution_count": null,
      "outputs": []
    },
    {
      "cell_type": "code",
      "source": [
        "#Returns the closest value that can make numerator completely divisible by the denominator\n",
        "# Import math Library\n",
        "import math\n",
        "\n",
        "# Return the remainder of x/y\n",
        "print (math.remainder(9, 2))\n",
        "print (math.remainder(9, 3))\n",
        "print (math.remainder(18, 4))\n"
      ],
      "metadata": {
        "id": "fOobLf6zCzCB"
      },
      "execution_count": null,
      "outputs": []
    },
    {
      "cell_type": "code",
      "source": [
        "#Returns the sine of a number\n",
        "# Import math Library\n",
        "import math\n",
        "\n",
        "# Return the sine of different values\n",
        "print (math.sin(0.00))\n",
        "print (math.sin(-1.23))\n",
        "print (math.sin(10))\n",
        "print (math.sin(math.pi))\n",
        "print (math.sin(math.pi/2))"
      ],
      "metadata": {
        "id": "FSG6ZZzeC7_q"
      },
      "execution_count": null,
      "outputs": []
    },
    {
      "cell_type": "code",
      "source": [
        "#Returns the hyperbolic sine of a number# Import math Library\n",
        "import math\n",
        "\n",
        "# Return the hyperbolic sine of different values\n",
        "print(math.sinh(0.00))\n",
        "print(math.sinh(-23.45))\n",
        "print(math.sinh(23))\n",
        "print(math.sinh(1.00))\n",
        "print(math.sinh(math.pi))"
      ],
      "metadata": {
        "id": "iftWsF3PDBZG"
      },
      "execution_count": null,
      "outputs": []
    },
    {
      "cell_type": "code",
      "source": [
        "#Returns the square root of a number\n",
        "# Import math Library\n",
        "import math\n",
        "\n",
        "# Return the square root of different numbers\n",
        "print (math.sqrt(9))\n",
        "print (math.sqrt(25))\n",
        "print (math.sqrt(16))"
      ],
      "metadata": {
        "id": "WefwQNiCDHtj"
      },
      "execution_count": null,
      "outputs": []
    },
    {
      "cell_type": "code",
      "source": [
        "#Returns the tangent of a number\n",
        "# Import math Library\n",
        "import math\n",
        "\n",
        "# Return the tangent of different numbers\n",
        "print (math.tan(90))\n",
        "print (math.tan(-90))\n",
        "print (math.tan(45))\n",
        "print (math.tan(60))"
      ],
      "metadata": {
        "id": "RqvOC7I-DMvq"
      },
      "execution_count": null,
      "outputs": []
    },
    {
      "cell_type": "code",
      "source": [
        "#Returns the hyperbolic tangent of a number\n",
        "# Import math Library\n",
        "import math\n",
        "\n",
        "# Return the hyperbolic tangent of different numbers\n",
        "print(math.tanh(8))\n",
        "print(math.tanh(1))\n",
        "print(math.tanh(-6.2))"
      ],
      "metadata": {
        "id": "t6fLUyDLDSaH"
      },
      "execution_count": null,
      "outputs": []
    },
    {
      "cell_type": "code",
      "source": [
        "#Returns the truncated integer parts of a number\n",
        "# Import math Library\n",
        "import math\n",
        "\n",
        "# Return the truncated integer parts of different numbers\n",
        "print(math.trunc(2.77))\n",
        "print(math.trunc(8.32))\n",
        "print(math.trunc(-99.29))"
      ],
      "metadata": {
        "id": "w-VyuHeDDYmU"
      },
      "execution_count": null,
      "outputs": []
    },
    {
      "cell_type": "markdown",
      "source": [
        "# MATH CONSTANTS"
      ],
      "metadata": {
        "id": "Hc8t4Gi2DmSI"
      }
    },
    {
      "cell_type": "code",
      "source": [
        "#Returns Euler's number (2.7182...)\n",
        "# Import math Library\n",
        "import math\n",
        "\n",
        "# Print the value of E\n",
        "print (math.e)"
      ],
      "metadata": {
        "id": "dLhupI_ZDrRD"
      },
      "execution_count": null,
      "outputs": []
    },
    {
      "cell_type": "code",
      "source": [
        "#Returns a floating-point positive infinity\n",
        "# Import math Library\n",
        "import math\n",
        "\n",
        "# Print the positive infinity\n",
        "print (math.inf)\n",
        "\n",
        "# Print the negative infinity\n",
        "print (-math.inf)"
      ],
      "metadata": {
        "id": "VMCJcXfKDwmv"
      },
      "execution_count": null,
      "outputs": []
    },
    {
      "cell_type": "code",
      "source": [
        "#Returns a floating-point NaN (Not a Number) value\n",
        "# Import math Library\n",
        "import math\n",
        "\n",
        "# Print the value of nan\n",
        "print (math.nan)"
      ],
      "metadata": {
        "id": "qQSDfb_CD7RI"
      },
      "execution_count": null,
      "outputs": []
    },
    {
      "cell_type": "code",
      "source": [
        "#Returns PI (3.1415...)\n",
        "# Import math Library\n",
        "import math\n",
        "\n",
        "# Print the value of pi\n",
        "print (math.pi)"
      ],
      "metadata": {
        "id": "S9lE05vXEC6q"
      },
      "execution_count": null,
      "outputs": []
    },
    {
      "cell_type": "code",
      "source": [
        "#Returns tau (6.2831...)\n",
        "# Import math Library\n",
        "import math\n",
        "\n",
        "# Print the value of tau\n",
        "print (math.tau)"
      ],
      "metadata": {
        "id": "_r9Dhw8MEHt7"
      },
      "execution_count": null,
      "outputs": []
    }
  ]
}